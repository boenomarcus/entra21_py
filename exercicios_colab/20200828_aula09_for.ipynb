{
  "nbformat": 4,
  "nbformat_minor": 0,
  "metadata": {
    "colab": {
      "name": "20200828_aula09_for.ipynb",
      "provenance": [],
      "collapsed_sections": []
    },
    "kernelspec": {
      "name": "python3",
      "display_name": "Python 3"
    }
  },
  "cells": [
    {
      "cell_type": "markdown",
      "metadata": {
        "id": "a5vmnGHsHlzT",
        "colab_type": "text"
      },
      "source": [
        "# Aluno: Marcus Moresco Boeno\n",
        "\n",
        "#### Data: 28-08-2020 (Sexta-Feira)\n",
        "#### Curso: Formação em Python - Entra21\n",
        "\n",
        "Este notebook contém os exercícios 1 a 9 da Aula 09 de python do Entra21 2020\n",
        "\n",
        "Os exercícios estão divididos em 2 seções:\n",
        "\n",
        "1. Laço de repetição for\n",
        " - Exercícios 1 a 5\n",
        "2. Uso de for com listas\n",
        " - Exercícios 6 a 9"
      ]
    },
    {
      "cell_type": "markdown",
      "metadata": {
        "id": "Ty0EoUjjyQ_I",
        "colab_type": "text"
      },
      "source": [
        "------\n",
        "\n",
        "# Laço de repetição for\n",
        "\n",
        "------\n"
      ]
    },
    {
      "cell_type": "markdown",
      "metadata": {
        "id": "YFyg5N5xg3zt",
        "colab_type": "text"
      },
      "source": [
        "<b>Exercicio 01</b>\n",
        "\n",
        "Faça um programa que conte de 0 a 100 e mostre todos os números."
      ]
    },
    {
      "cell_type": "code",
      "metadata": {
        "id": "felPKbs_hpzF",
        "colab_type": "code",
        "colab": {
          "base_uri": "https://localhost:8080/",
          "height": 110
        },
        "outputId": "5f24bcbd-6f3a-4b64-d40c-46eefb7afac9"
      },
      "source": [
        "\n",
        "# Apresentação\n",
        "print(\"\\n> Contagem de 0 a 100!\\n\")\n",
        "\n",
        "# Apresentando resultados\n",
        "for i in range(101):\n",
        "    print(f\"{i}, \", end=\"\")\n"
      ],
      "execution_count": 66,
      "outputs": [
        {
          "output_type": "stream",
          "text": [
            "\n",
            "> Contagem de 0 a 100!\n",
            "\n",
            "0, 1, 2, 3, 4, 5, 6, 7, 8, 9, 10, 11, 12, 13, 14, 15, 16, 17, 18, 19, 20, 21, 22, 23, 24, 25, 26, 27, 28, 29, 30, 31, 32, 33, 34, 35, 36, 37, 38, 39, 40, 41, 42, 43, 44, 45, 46, 47, 48, 49, 50, 51, 52, 53, 54, 55, 56, 57, 58, 59, 60, 61, 62, 63, 64, 65, 66, 67, 68, 69, 70, 71, 72, 73, 74, 75, 76, 77, 78, 79, 80, 81, 82, 83, 84, 85, 86, 87, 88, 89, 90, 91, 92, 93, 94, 95, 96, 97, 98, 99, 100, "
          ],
          "name": "stdout"
        }
      ]
    },
    {
      "cell_type": "markdown",
      "metadata": {
        "id": "vxXrflX8hqYm",
        "colab_type": "text"
      },
      "source": [
        "<b>Exercicio 02</b>\n",
        "\n",
        "Faça um programa que mostre a tabuada de 1, 2, 3 e 4"
      ]
    },
    {
      "cell_type": "code",
      "metadata": {
        "id": "oiqFl9nKiBUs",
        "colab_type": "code",
        "colab": {
          "base_uri": "https://localhost:8080/",
          "height": 1000
        },
        "outputId": "b903047d-cb56-4ec6-b491-e270e1fdc900"
      },
      "source": [
        "\n",
        "# Apresentando tabuadas do 1, 2, 3 e 4\n",
        "print(\"\\n> Apresentado tabuadas do 1, 2, 3 e 4!\")\n",
        "\n",
        "# Apresentando os resultados\n",
        "for j in range(1,5):\n",
        "    print(f\"\\n{' Tabuada do ' + str(j) + ' ':-^20} \\n\")\n",
        "    for i in range(11):\n",
        "        print(f\"{str(j) + ' x ' + str(i) + ' = ' + str(i*j):^20}\")\n"
      ],
      "execution_count": 67,
      "outputs": [
        {
          "output_type": "stream",
          "text": [
            "\n",
            "> Apresentado tabuadas do 1, 2, 3 e 4!\n",
            "\n",
            "--- Tabuada do 1 --- \n",
            "\n",
            "     1 x 0 = 0      \n",
            "     1 x 1 = 1      \n",
            "     1 x 2 = 2      \n",
            "     1 x 3 = 3      \n",
            "     1 x 4 = 4      \n",
            "     1 x 5 = 5      \n",
            "     1 x 6 = 6      \n",
            "     1 x 7 = 7      \n",
            "     1 x 8 = 8      \n",
            "     1 x 9 = 9      \n",
            "    1 x 10 = 10     \n",
            "\n",
            "--- Tabuada do 2 --- \n",
            "\n",
            "     2 x 0 = 0      \n",
            "     2 x 1 = 2      \n",
            "     2 x 2 = 4      \n",
            "     2 x 3 = 6      \n",
            "     2 x 4 = 8      \n",
            "     2 x 5 = 10     \n",
            "     2 x 6 = 12     \n",
            "     2 x 7 = 14     \n",
            "     2 x 8 = 16     \n",
            "     2 x 9 = 18     \n",
            "    2 x 10 = 20     \n",
            "\n",
            "--- Tabuada do 3 --- \n",
            "\n",
            "     3 x 0 = 0      \n",
            "     3 x 1 = 3      \n",
            "     3 x 2 = 6      \n",
            "     3 x 3 = 9      \n",
            "     3 x 4 = 12     \n",
            "     3 x 5 = 15     \n",
            "     3 x 6 = 18     \n",
            "     3 x 7 = 21     \n",
            "     3 x 8 = 24     \n",
            "     3 x 9 = 27     \n",
            "    3 x 10 = 30     \n",
            "\n",
            "--- Tabuada do 4 --- \n",
            "\n",
            "     4 x 0 = 0      \n",
            "     4 x 1 = 4      \n",
            "     4 x 2 = 8      \n",
            "     4 x 3 = 12     \n",
            "     4 x 4 = 16     \n",
            "     4 x 5 = 20     \n",
            "     4 x 6 = 24     \n",
            "     4 x 7 = 28     \n",
            "     4 x 8 = 32     \n",
            "     4 x 9 = 36     \n",
            "    4 x 10 = 40     \n"
          ],
          "name": "stdout"
        }
      ]
    },
    {
      "cell_type": "markdown",
      "metadata": {
        "id": "9firkc2JhszR",
        "colab_type": "text"
      },
      "source": [
        "<b>Exercicio 03</b>\n",
        "\n",
        "Faça um programa que peça 10 notas do aluno. Faça a média e mostre as seguintes mensagens:\n",
        "\n",
        "Para 7 a 10 - Aprovado<br>\n",
        "Para 5.5 a 7 - Recuperação <br>\n",
        "Para menor de 5.5 - Reprovado"
      ]
    },
    {
      "cell_type": "code",
      "metadata": {
        "id": "hxKuPSpxiB0c",
        "colab_type": "code",
        "colab": {
          "base_uri": "https://localhost:8080/",
          "height": 311
        },
        "outputId": "457b48ca-4886-4053-acdd-ba13d3341b15"
      },
      "source": [
        "\n",
        "# Apresentação\n",
        "print(\"\\n> Cálculo de média\\n\")\n",
        "\n",
        "# Captando input do usuário\n",
        "notas = []\n",
        "for i in range(10):\n",
        "    notas.append(float(input(f\"Digite a nota [{i+1}/10]: \")))\n",
        "\n",
        "# Apresentando resultados\n",
        "media = sum(notas)/len(notas)\n",
        "if media < 0:\n",
        "    print(f\"\\n[ERRO] Uma ou mais notas são inválidas!\\n\")\n",
        "elif media < 5.5:\n",
        "    print(f\"\\nO aluno está Reprovado! [média = {media:.2f}]\\n\")\n",
        "elif media < 7:\n",
        "    print(f\"\\nO aluno está em RECUPERAÇÃO! [média = {media:.2f}]\\n\")\n",
        "elif media < 10:\n",
        "    print(f\"\\nO aluno está APROVADO! [média = {media:.2f}]\\n\")\n",
        "else:\n",
        "    print(f\"\\n[ERRO] Uma ou mais notas são inválidas!\\n\")\n"
      ],
      "execution_count": 27,
      "outputs": [
        {
          "output_type": "stream",
          "text": [
            "\n",
            "> Cálculo de média\n",
            "\n",
            "Digite a nota [1/10]: 10\n",
            "Digite a nota [2/10]: 9.8\n",
            "Digite a nota [3/10]: 8.4\n",
            "Digite a nota [4/10]: 9.0\n",
            "Digite a nota [5/10]: 7.8\n",
            "Digite a nota [6/10]: 8.2\n",
            "Digite a nota [7/10]: 8.1\n",
            "Digite a nota [8/10]: 7.6\n",
            "Digite a nota [9/10]: 10\n",
            "Digite a nota [10/10]: 9.2\n",
            "\n",
            "O aluno está APROVADO! [média = 8.81]\n",
            "\n"
          ],
          "name": "stdout"
        }
      ]
    },
    {
      "cell_type": "markdown",
      "metadata": {
        "id": "GkG7YFsLhtgP",
        "colab_type": "text"
      },
      "source": [
        "<b>Exercicio 04</b>\n",
        "\n",
        "Faça um programa de cadastro de pessoas que receba 10 nomes, idades e e-mails e salve cada um em uma lista.\n",
        "\n",
        "Depois mostre as listas separadamente \n",
        "(print (lista) já é o suficiente)"
      ]
    },
    {
      "cell_type": "code",
      "metadata": {
        "id": "JBCvn_QWiCYE",
        "colab_type": "code",
        "colab": {
          "base_uri": "https://localhost:8080/",
          "height": 1000
        },
        "outputId": "73338c1e-a119-4c78-bd46-b07a42448278"
      },
      "source": [
        "\n",
        "# Apresentação\n",
        "print(\"\\n> Cadastro de usuários\")\n",
        "\n",
        "# Captando input do usuário\n",
        "nomes = []\n",
        "idades = []\n",
        "emails = []\n",
        "for i in range(10):\n",
        "    print(f\"\\n -- Cadastro do usuário {i+1}\")\n",
        "    nomes.append(input(\"Nome: \"))\n",
        "    idades.append(int(input(\"Idade: \")))\n",
        "    emails.append(input(\"Email: \"))\n",
        "\n",
        "# Apresentando resultados\n",
        "print(f\"\\nUsuários cadastrados = {nomes}\")\n",
        "print(f\"Idades dos usuários = {idades}\")\n",
        "print(f\"Emails dos usuários = {emails}\\n\")\n"
      ],
      "execution_count": 70,
      "outputs": [
        {
          "output_type": "stream",
          "text": [
            "\n",
            "> Cadastro de usuários\n",
            "\n",
            " -- Cadastro do usuário 1\n",
            "Nome: Marcus\n",
            "Idade: 26\n",
            "Email: marcus@gmail.com\n",
            "\n",
            " -- Cadastro do usuário 2\n",
            "Nome: Cleber\n",
            "Idade: 23\n",
            "Email: cleber@gmail.com\n",
            "\n",
            " -- Cadastro do usuário 3\n",
            "Nome: Joaquim\n",
            "Idade: 23\n",
            "Email: joaquim@yahoo.com.pt\n",
            "\n",
            " -- Cadastro do usuário 4\n",
            "Nome: Louis\n",
            "Idade: 34\n",
            "Email: louis@lemonde.com.fr\n",
            "\n",
            " -- Cadastro do usuário 5\n",
            "Nome: Thomas\n",
            "Idade: 34\n",
            "Email: thomas@amazon.com.uk\n",
            "\n",
            " -- Cadastro do usuário 6\n",
            "Nome: Jeanne\n",
            "Idade: 32\n",
            "Email: jeanne@lemonde.com.fr\n",
            "\n",
            " -- Cadastro do usuário 7\n",
            "Nome: Pedro\n",
            "Idade: 23\n",
            "Email: pedro@terra.com.br\n",
            "\n",
            " -- Cadastro do usuário 8\n",
            "Nome: Jaqueline\n",
            "Idade: 34\n",
            "Email: jaque@gmail.com\n",
            "\n",
            " -- Cadastro do usuário 9\n",
            "Nome: Marcelo\n",
            "Idade: 21\n",
            "Email: marcelo@outlook.com\n",
            "\n",
            " -- Cadastro do usuário 10\n",
            "Nome: Luan\n",
            "Idade: 34\n",
            "Email: luan@uol.com.br\n",
            "\n",
            "Usuários cadastrados = ['Marcus', 'Cleber', 'Joaquim', 'Louis', 'Thomas', 'Jeanne', 'Pedro', 'Jaqueline', 'Marcelo', 'Luan']\n",
            "Idades dos usuários = [26, 23, 23, 34, 34, 32, 23, 34, 21, 34]\n",
            "Emails dos usuários = ['marcus@gmail.com', 'cleber@gmail.com', 'joaquim@yahoo.com.pt', 'louis@lemonde.com.fr', 'thomas@amazon.com.uk', 'jeanne@lemonde.com.fr', 'pedro@terra.com.br', 'jaque@gmail.com', 'marcelo@outlook.com', 'luan@uol.com.br']\n",
            "\n"
          ],
          "name": "stdout"
        }
      ]
    },
    {
      "cell_type": "markdown",
      "metadata": {
        "id": "aeO_h3nAhuFv",
        "colab_type": "text"
      },
      "source": [
        "<b>Exercicio 05</b>\n",
        "\n",
        "Faça um programa que peça ao usuário digitar a quantidade de vendas do dia. Cadastre cada venda separadaemnte e depois mostre a média e o valor total vendido no dia."
      ]
    },
    {
      "cell_type": "code",
      "metadata": {
        "id": "xXB8UvNbiC8o",
        "colab_type": "code",
        "colab": {
          "base_uri": "https://localhost:8080/",
          "height": 311
        },
        "outputId": "75284f45-fc37-4f58-e533-c49447d3487f"
      },
      "source": [
        "\n",
        "# Apresentação\n",
        "print(\"\\n> Cadastro diário de vendas\")\n",
        "\n",
        "# Captando número de vendas do dia\n",
        "num_vendas = int(input(\"\\nQuantidade de vendas do dia: \"))\n",
        "\n",
        "# Captando valor de cada venda\n",
        "vendas = []\n",
        "print(\"\\n\")\n",
        "for i in range(num_vendas):\n",
        "    vendas.append(float(input(f\"Valor da venda {i+1} [R$]: \")))\n",
        "\n",
        "# Apresentado resultados\n",
        "print(\"\\n --- Resumo das vendas diárias:\")\n",
        "print(f\"Total de vendas: {num_vendas}\")\n",
        "print(f\"Valor total de vendas: R$ {sum(vendas)}\")\n",
        "print(f\"Valor médio de vendas: R$ {sum(vendas)/len(vendas):.2f}\\n\")\n"
      ],
      "execution_count": 45,
      "outputs": [
        {
          "output_type": "stream",
          "text": [
            "\n",
            "> Cadastro diário de vendas\n",
            "\n",
            "Quantidade de vendas do dia: 4\n",
            "\n",
            "\n",
            "Valor da venda 1 [R$]: 25\n",
            "Valor da venda 2 [R$]: 40\n",
            "Valor da venda 3 [R$]: 35\n",
            "Valor da venda 4 [R$]: 18\n",
            "\n",
            " --- Resumo das vendas diárias:\n",
            "Total de vendas: 4\n",
            "Valor total de vendas: R$ 118.0\n",
            "Valor médio de vendas: R$ 29.50\n",
            "\n"
          ],
          "name": "stdout"
        }
      ]
    },
    {
      "cell_type": "markdown",
      "metadata": {
        "id": "FiUBtuCDkxvo",
        "colab_type": "text"
      },
      "source": [
        "----\n",
        "\n",
        "# Uso de for com listas\n",
        "\n",
        "----\n"
      ]
    },
    {
      "cell_type": "markdown",
      "metadata": {
        "id": "goduLBlhhuel",
        "colab_type": "text"
      },
      "source": [
        "<b>Exercicio 06</b>\n",
        "\n",
        "Faça um programa que peça ao usuário que digite o nome de 10 pessoas. Depois mostre cada nome em linhas separadas."
      ]
    },
    {
      "cell_type": "code",
      "metadata": {
        "id": "xS3d9sHvtXxR",
        "colab_type": "code",
        "colab": {
          "base_uri": "https://localhost:8080/",
          "height": 495
        },
        "outputId": "2f4e124c-1330-4343-efd4-3b180c981482"
      },
      "source": [
        "\n",
        "# Apresentação\n",
        "print(\"\\n> Apresentando 10 nomes\")\n",
        "\n",
        "# Captando input do usuário\n",
        "nomes = []\n",
        "print(\"\\n --- Cadastro de nomes:\")\n",
        "for i in range(10):\n",
        "    nomes.append(input(f\"Digite um nome [{i+1}/10]: \"))\n",
        "\n",
        "# Apresentando resultados\n",
        "print(\"\\n --- Nomes cadastrados:\")\n",
        "for nome in nomes:\n",
        "    print(nome)\n"
      ],
      "execution_count": 48,
      "outputs": [
        {
          "output_type": "stream",
          "text": [
            "\n",
            "> Apresentando 10 nomes\n",
            "\n",
            " --- Cadastro de nomes:\n",
            "Digite um nome [1/10]: Marcus\n",
            "Digite um nome [2/10]: João\n",
            "Digite um nome [3/10]: Miguel\n",
            "Digite um nome [4/10]: Arthur\n",
            "Digite um nome [5/10]: Pedro\n",
            "Digite um nome [6/10]: Joaquim\n",
            "Digite um nome [7/10]: Samuel\n",
            "Digite um nome [8/10]: Henrique\n",
            "Digite um nome [9/10]: Davi\n",
            "Digite um nome [10/10]: Cláudio\n",
            "\n",
            " --- Nomes cadastrados:\n",
            "Marcus\n",
            "João\n",
            "Miguel\n",
            "Arthur\n",
            "Pedro\n",
            "Joaquim\n",
            "Samuel\n",
            "Henrique\n",
            "Davi\n",
            "Cláudio\n"
          ],
          "name": "stdout"
        }
      ]
    },
    {
      "cell_type": "markdown",
      "metadata": {
        "id": "uxEaQ4czhvAB",
        "colab_type": "text"
      },
      "source": [
        "<b>Exercicio 07</b>\n",
        "\n",
        "Faça um programa que receba 10 idades e mostre a seguinte mensagem:\n",
        "\n",
        "Para maiores de 18 anos: Ingreços da Rave liberado!<br>\n",
        "De 16 a 18 anos: Ingreços de cinema liberado <br>\n",
        "De 13 a 16 anos: Ingreços para fliperama liberado<br>\n",
        "Menores de 13 anos: Psicina de bolinhas liberado"
      ]
    },
    {
      "cell_type": "code",
      "metadata": {
        "id": "UOQd0H4ZiEKz",
        "colab_type": "code",
        "colab": {
          "base_uri": "https://localhost:8080/",
          "height": 531
        },
        "outputId": "568bae0d-1db4-40ee-f5fb-21e60b3db705"
      },
      "source": [
        "\n",
        "# Apresentação\n",
        "print(\"\\n> Ingresso por faixa etária!\")\n",
        "\n",
        "# Captando input do usuário\n",
        "idades = []\n",
        "print(\"\\n --- Cadastro de idades:\")\n",
        "for i in range(10):\n",
        "    idades.append(int(input(f\"Digite uma idade [{i+1}/10]: \")))\n",
        "\n",
        "# Apresentado resultados\n",
        "print(\"\\n\")\n",
        "for idade in idades:\n",
        "    if idade < 13:\n",
        "        print(f\"Idade: {idade} anos -- Piscina de bolinhas liberada!\")\n",
        "    elif idade < 16:\n",
        "        print(f\"Idade: {idade} anos -- Ingresso para o FLIPERAMA liberado!\")\n",
        "    elif idade < 18:\n",
        "        print(f\"Idade: {idade} anos -- Ingresso para o CINEMA liberado!\")\n",
        "    else:\n",
        "        print(f\"Idade: {idade} anos -- Ingresso para a RAVE liberado!\")\n",
        "print(\"\\n\")\n"
      ],
      "execution_count": 63,
      "outputs": [
        {
          "output_type": "stream",
          "text": [
            "\n",
            "> Ingresso por faixa etária!\n",
            "\n",
            " --- Cadastro de idades:\n",
            "Digite uma idade [1/10]: 10\n",
            "Digite uma idade [2/10]: 20\n",
            "Digite uma idade [3/10]: 4\n",
            "Digite uma idade [4/10]: 25\n",
            "Digite uma idade [5/10]: 70\n",
            "Digite uma idade [6/10]: 13\n",
            "Digite uma idade [7/10]: 24\n",
            "Digite uma idade [8/10]: 14\n",
            "Digite uma idade [9/10]: 15\n",
            "Digite uma idade [10/10]: 28\n",
            "\n",
            "\n",
            "Idade: 10 anos -- Piscina de bolinhas liberada!\n",
            "Idade: 20 anos -- Ingresso para a RAVE liberado!\n",
            "Idade: 4 anos -- Piscina de bolinhas liberada!\n",
            "Idade: 25 anos -- Ingresso para a RAVE liberado!\n",
            "Idade: 70 anos -- Ingresso para a RAVE liberado!\n",
            "Idade: 13 anos -- Ingresso para o FLIPERAMA liberado!\n",
            "Idade: 24 anos -- Ingresso para a RAVE liberado!\n",
            "Idade: 14 anos -- Ingresso para o FLIPERAMA liberado!\n",
            "Idade: 15 anos -- Ingresso para o FLIPERAMA liberado!\n",
            "Idade: 28 anos -- Ingresso para a RAVE liberado!\n",
            "\n",
            "\n"
          ],
          "name": "stdout"
        }
      ]
    },
    {
      "cell_type": "markdown",
      "metadata": {
        "id": "RLXU617Ch7ST",
        "colab_type": "text"
      },
      "source": [
        "<b>Exercicio 08</b>\n",
        "\n",
        "Faça um programa que pegue a lista e calcule a seguinte formula: 32x+125\n",
        "\n",
        "Com o resultado desta formula mostre sómente os resultados maiores que 550. Para os resultados menores que 550 mostre \"número invalido!\"\n",
        "\n",
        "lista = [1, 6, 9, 1, 5, 4, 8, 9, 15, 23, 14, 54, 82, 91, 45]\n"
      ]
    },
    {
      "cell_type": "code",
      "metadata": {
        "id": "lnHYZb58iEuv",
        "colab_type": "code",
        "colab": {
          "base_uri": "https://localhost:8080/",
          "height": 348
        },
        "outputId": "39386fac-d1b5-4e62-f6f3-7f8603525c97"
      },
      "source": [
        "\n",
        "# Apresentação\n",
        "print(\"\\n> Cálculo usando fórmula (y = 32x + 125)!\\n\")\n",
        "\n",
        "# Declarando lista base\n",
        "lista = [1, 6, 9, 1, 5, 4, 8, 9, 15, 23, 14, 54, 82, 91, 45]\n",
        "\n",
        "# Apresentando resultados\n",
        "for x in lista:\n",
        "    y = 32*x + 125\n",
        "    if y > 550:\n",
        "        print(f\"32*{x} + 125 = {y}\")\n",
        "    else:\n",
        "        print(\"Número inválido!\")\n"
      ],
      "execution_count": 56,
      "outputs": [
        {
          "output_type": "stream",
          "text": [
            "\n",
            "> Cálculo usando fórmula (y = 32x + 125)!\n",
            "\n",
            "Número inválido!\n",
            "Número inválido!\n",
            "Número inválido!\n",
            "Número inválido!\n",
            "Número inválido!\n",
            "Número inválido!\n",
            "Número inválido!\n",
            "Número inválido!\n",
            "32*15 + 125 = 605\n",
            "32*23 + 125 = 861\n",
            "32*14 + 125 = 573\n",
            "32*54 + 125 = 1853\n",
            "32*82 + 125 = 2749\n",
            "32*91 + 125 = 3037\n",
            "32*45 + 125 = 1565\n"
          ],
          "name": "stdout"
        }
      ]
    },
    {
      "cell_type": "markdown",
      "metadata": {
        "id": "icqtXstnh8og",
        "colab_type": "text"
      },
      "source": [
        "<b>Exercicio 09</b>\n",
        "\n",
        "Faça um programa que pegue uma lista de valores e separe em 2 listas. Uma com valores menores que 500.00 e outra com maiores ou igual.\n",
        "\n",
        "Depois motre o maior e o menor valor da cada lista.\n",
        "\n",
        "vandas = [100.00, 500.00, 258.50, 710.00, 50.50,750.00, 10.00, 1050.00, 859.75, 199.05, 500.50,750.00, 568.60, 950.00, 950.00, 89.90, 2500.00, 1750.00,500.00]"
      ]
    },
    {
      "cell_type": "code",
      "metadata": {
        "id": "egIUknrZua7r",
        "colab_type": "code",
        "colab": {
          "base_uri": "https://localhost:8080/",
          "height": 256
        },
        "outputId": "a9c7d361-3c6f-47e4-b484-89bfac9c5656"
      },
      "source": [
        "\n",
        "# Apresentação\n",
        "print(\"\\n> Dividindo lista de vendas!\")\n",
        "\n",
        "# Declarando lista base\n",
        "vendas = [\n",
        "        100.00, 500.00, 258.50, 710.00, 50.50, 750.00, 10.00, 1050.00, \n",
        "        859.75, 199.05, 500.50, 750.00, 568.60, 950.00, 950.00, 89.90, \n",
        "        2500.00, 1750.00, 500.00\n",
        "        ]\n",
        "\n",
        "# Criando listas vazias para armazenar resultados\n",
        "maiores500 = []\n",
        "menores500 = []\n",
        "\n",
        "# Dividindo lista\n",
        "for venda in vendas:\n",
        "    if venda >= 500:\n",
        "        maiores500.append(venda)\n",
        "    else:\n",
        "        menores500.append(venda)\n",
        "\n",
        "# Apresentado resultados (Menores do que 500)\n",
        "print(\"\\n --- Valores menores do que 500:\")\n",
        "print(f\"Quantidade: {len(menores500)}\")\n",
        "print(f\"Menor valor: {min(menores500):.2f}\")\n",
        "print(f\"Maior valor: {max(menores500):.2f}\")\n",
        "\n",
        "# Apresentado resultados (Maiores do que 500)\n",
        "print(\"\\n --- Valores maiores ou iguais a 500:\")\n",
        "print(f\"Quantidade: {len(maiores500)}\")\n",
        "print(f\"Menor valor: {min(maiores500):.2f}\")\n",
        "print(f\"Maior valor: {max(maiores500):.2f}\\n\")\n"
      ],
      "execution_count": 61,
      "outputs": [
        {
          "output_type": "stream",
          "text": [
            "\n",
            "> Dividindo lista de vendas!\n",
            "\n",
            " --- Valores menores do que 500:\n",
            "Quantidade: 6\n",
            "Menor valor: 10.00\n",
            "Maior valor: 258.50\n",
            "\n",
            " --- Valores maiores ou iguais a 500:\n",
            "Quantidade: 13\n",
            "Menor valor: 500.00\n",
            "Maior valor: 2500.00\n",
            "\n"
          ],
          "name": "stdout"
        }
      ]
    }
  ]
}