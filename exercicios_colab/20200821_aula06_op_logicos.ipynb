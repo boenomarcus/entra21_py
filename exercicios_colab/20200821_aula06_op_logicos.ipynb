{
  "nbformat": 4,
  "nbformat_minor": 0,
  "metadata": {
    "colab": {
      "name": "20200821_aula06_op_logicos.ipynb",
      "provenance": [],
      "collapsed_sections": []
    },
    "kernelspec": {
      "name": "python3",
      "display_name": "Python 3"
    }
  },
  "cells": [
    {
      "cell_type": "markdown",
      "metadata": {
        "id": "zh2SM-NoD_Et",
        "colab_type": "text"
      },
      "source": [
        "# Aluno: Marcus Moresco Boeno\n",
        "\n",
        "#### Data: 21-08-2020 (Sexta-Feira)\n",
        "#### Curso: Formação em Python - Entra21\n",
        "\n",
        "Este notebook contém os exercícios 1 a 4 da Aula 06 de python do Entra21 2020"
      ]
    },
    {
      "cell_type": "markdown",
      "metadata": {
        "id": "QSJRa4ACyCga",
        "colab_type": "text"
      },
      "source": [
        "<h1><b>Execicios 01</b></h1>\n",
        "\n",
        "Escreva um programa que calcule a porcentagem de comissão de vendedores com as seguintes condições\n",
        "\n",
        "Venda Total<br>\n",
        "de R\\$ 0.00 a R\\$ 30000.00 - 0%<br>\n",
        "de R\\$ 30000.01 a R\\$ 50000.00 - 1.5%<br>\n",
        "de R\\$ 50000.01 a R\\$ 100000.00 - 2.5%<br>\n",
        "Acima de R\\$ 100000.00 - 3.5%<br>"
      ]
    },
    {
      "cell_type": "code",
      "metadata": {
        "id": "P9bKKl88xGKO",
        "colab_type": "code",
        "colab": {
          "base_uri": "https://localhost:8080/",
          "height": 164
        },
        "outputId": "ed1903d0-fb62-4966-84ee-b85198f47c26"
      },
      "source": [
        "\n",
        "# Apresentação\n",
        "print(\"\\n > Comissão sobre vendas!\")\n",
        "\n",
        "# Captando input do usuário\n",
        "vendas = float(input(\"\\nQual foi o valor de venda total (R$): \"))\n",
        "\n",
        "# Apresentando resultados\n",
        "if vendas < 0:\n",
        "    print(\"\\nValor inválido para vendas!\\n\")\n",
        "elif vendas <= 30000:\n",
        "    print(f\"\\n -- Porcentagem de comissão é de 0% [R$ 0,00 ~ R$ 30.000,00]!\")\n",
        "    print(\"Valor da comissão: R$ {:.2f}\\n\".format(vendas*0))\n",
        "elif vendas <= 50000:\n",
        "    print(f\"\\n -- Porcentagem de comissão é de 1,5% [R$ 30.000,01 ~ R$ 50.000,00]!\")\n",
        "    print(\"Valor da comissão: R$ {:.2f}\\n\".format(vendas*0.015))\n",
        "elif vendas <= 100000:\n",
        "    print(f\"\\n -- Porcentagem de comissão é de 2,5% [R$ 50.000,01 ~ R$ 100.000,00]!\")\n",
        "    print(\"Valor da comissão: R$ {:.2f}\\n\".format(vendas*0.025))\n",
        "else:\n",
        "    print(f\"\\n -- Porcentagem de comissão é de 3,5% [Acima de R$ 100.000,00]!\")\n",
        "    print(\"Valor da comissão: R$ {:.2f}\\n\".format(vendas*0.035))\n"
      ],
      "execution_count": 42,
      "outputs": [
        {
          "output_type": "stream",
          "text": [
            "\n",
            " > Comissão sobre vendas!\n",
            "\n",
            "Qual foi o valor de venda total (R$): 65000\n",
            "\n",
            " -- Porcentagem de comissão é de 2,5% [R$ 50.000,01 ~ R$ 100.000,00]!\n",
            "Valor da comissão: R$ 1625.00\n",
            "\n"
          ],
          "name": "stdout"
        }
      ]
    },
    {
      "cell_type": "markdown",
      "metadata": {
        "id": "F1E1QY3kySyI",
        "colab_type": "text"
      },
      "source": [
        "<h1><b>Execicios 02</b></h1>\n",
        "\n",
        "Escreva um programa que receba 4 notas e calcule a média.<br>\n",
        "Mostre a seguinte mensagem conforme a media final.\n",
        "\n",
        "Media Final<br>\n",
        "de 0 a 5 - Reprovado<br>\n",
        "de 5 a 6.5 - Recuperação<br>\n",
        "de 6.5 a 9 - Aprovado<br>\n",
        "Acima de 9 - Aprovado com louvor<br>"
      ]
    },
    {
      "cell_type": "code",
      "metadata": {
        "id": "442L8_lHy80J",
        "colab_type": "code",
        "colab": {
          "base_uri": "https://localhost:8080/",
          "height": 201
        },
        "outputId": "ad14f4cd-8660-4a04-8fea-4ba92309ef27"
      },
      "source": [
        "\n",
        "# Apresentação\n",
        "print(\"\\n > Cálculo de média!\")\n",
        "\n",
        "# Captando input do usuário\n",
        "n1 = float(input(\"\\nDigite a primeira nota [1/4]: \"))\n",
        "n2 = float(input(\"Digite a segunda nota [2/4]: \"))\n",
        "n3 = float(input(\"Digite a terceira nota [3/4]: \"))\n",
        "n4 = float(input(\"Digite a quarta nota [4/4]: \"))\n",
        "\n",
        "# Apresentando resultados\n",
        "media = (n1+n2+n3+n4)/4\n",
        "if media < 5:\n",
        "    print(f\"\\nReprovado! (Média = {media})\\n\")\n",
        "elif media < 6.5:\n",
        "    print(f\"\\nRecuperação! (Média = {media})\\n\")\n",
        "elif media < 9:\n",
        "    print(f\"\\nAprovado! (Média = {media})\\n\")\n",
        "else:\n",
        "    print(f\"\\nAprovado com louvor! (Média = {media})\\n\")\n"
      ],
      "execution_count": 39,
      "outputs": [
        {
          "output_type": "stream",
          "text": [
            "\n",
            " > Cálculo de média!\n",
            "\n",
            "Digite a primeira nota [1/4]: 5\n",
            "Digite a segunda nota [2/4]: 7\n",
            "Digite a terceira nota [3/4]: 6\n",
            "Digite a quarta nota [4/4]: 8.4\n",
            "\n",
            "Aprovado! (Média = 6.6)\n",
            "\n"
          ],
          "name": "stdout"
        }
      ]
    },
    {
      "cell_type": "markdown",
      "metadata": {
        "id": "wjVlXRF2y9qj",
        "colab_type": "text"
      },
      "source": [
        "<h1><b>Execicios 03</b></h1>\n",
        "\n",
        "Escreva um programa que contenha um menu com 4 opções:<br>\n",
        "A) soma<br>\n",
        "B) média<br>\n",
        "C) divisão<br>\n",
        "D) Sair<br>\n",
        "\n",
        "As opções podem ser escolhidas com as letras maiusculas ou minusculas.\n",
        "\n",
        "Para a opção soma, deve solicitar 2 números, fazer a soma e mostrar o resultado.\n",
        "\n",
        "Para a opção média, deve solicitar 4 números, fazer a média e mostrar os resultados.\n",
        "\n",
        "Para a opção divisão, deve solicitar 2 números, dividir o primeiro pelo segundo e montrar o resultado. Caso o segundo for igual a 0, então deve mostrar o a mensagem \"Erro! Não pode dividir por ZERO!\"\n",
        "\n",
        "Para a opção sair, deve aparecer a mensagem: \"Muito Obrigado e Volte sempre!\"\n"
      ]
    },
    {
      "cell_type": "code",
      "metadata": {
        "id": "51J1OiFu1buY",
        "colab_type": "code",
        "colab": {
          "base_uri": "https://localhost:8080/",
          "height": 384
        },
        "outputId": "e62fd1ab-587e-47c1-d239-034e869d4c13"
      },
      "source": [
        "\n",
        "# Apresentação\n",
        "print(\"\\n > Operações matemáticas!\")\n",
        "\n",
        "# Captando input do usuário\n",
        "opcao = int(input(\"\"\"\n",
        ">> Operações Matemáticas\n",
        "\n",
        "[1] Soma\n",
        "[2] Média\n",
        "[3] Divisão\n",
        "[4] Sair do Sistema\n",
        "\n",
        "Opção: \"\"\"))\n",
        "\n",
        "# Apresentando resultados\n",
        "if opcao == 1:\n",
        "    # Apresentação\n",
        "    print(\"\\nVocê selecionou a operação SOMA!\")\n",
        "    print(\"\\n> Digite dois valores: \")\n",
        "\n",
        "    # Captando input do usuário\n",
        "    f1 = float(input(\"Digite o primeiro valor [1/2]: \"))\n",
        "    f2 = float(input(\"Digite o segundo valor [2/2]: \"))\n",
        "\n",
        "    # Apresentando resultados\n",
        "    print(f\"\\nO resultado da soma é igual a {f1+f2}\\n\")\n",
        "    \n",
        "elif opcao == 2:\n",
        "    # Apresentação\n",
        "    print(\"\\nVocê selecionou a operação MÉDIA!\")\n",
        "    print(\"\\n> Digite quatro valores: \")\n",
        "\n",
        "    # Captando input do usuário\n",
        "    f1 = float(input(\"Digite o primeiro valor [1/4]: \"))\n",
        "    f2 = float(input(\"Digite o segundo valor [2/4]: \"))\n",
        "    f3 = float(input(\"Digite o terceiro valor [3/4]: \"))\n",
        "    f4 = float(input(\"Digite o quarto valor [4/4]: \"))\n",
        "\n",
        "    # Apresentando resultados\n",
        "    media = (f1+f2+f3+f4)/media\n",
        "    print(\"\\nO resultado da média é igual a {:.2f}\\n\".format(media))\n",
        "\n",
        "elif opcao == 3:\n",
        "    # Apresentação\n",
        "    print(\"\\nVocê selecionou a operação DIVISÃO!\")\n",
        "    print(\"\\n> Digite o numerador e denominador: \")\n",
        "\n",
        "    # Captando input do usuário\n",
        "    num = float(input(\"Digite o numerador: \"))\n",
        "    den = float(input(\"Digite o denominador: \"))\n",
        "\n",
        "    # Apresentando resultados\n",
        "    if not(den == 0):\n",
        "        print(\"\\nO resultado da divisão é igual a {:.2f}\\n\".format(num/den))\n",
        "    else:\n",
        "        print(\"[ERRO] Não é possível dividir por zero!\")\n",
        "elif opcao == 4:\n",
        "    print(\"\\nMuito obrigado e volte sempre!\\n\")\n",
        "else:\n",
        "    print(\"\\nOpção Inválida!\\n\")\n"
      ],
      "execution_count": 40,
      "outputs": [
        {
          "output_type": "stream",
          "text": [
            "\n",
            " > Operações matemáticas!\n",
            "\n",
            ">> Operações Matemáticas\n",
            "\n",
            "[1] Soma\n",
            "[2] Média\n",
            "[3] Divisão\n",
            "[4] Sair do Sistema\n",
            "\n",
            "Opção: 3\n",
            "\n",
            "Você selecionou a operação DIVISÃO!\n",
            "\n",
            "> Digite o numerador e denominador: \n",
            "Digite o numerador: 4\n",
            "Digite o denominador: 8\n",
            "\n",
            "O resultado da divisão é igual a 0.50\n",
            "\n"
          ],
          "name": "stdout"
        }
      ]
    },
    {
      "cell_type": "markdown",
      "metadata": {
        "id": "1dW6_7Jg1caw",
        "colab_type": "text"
      },
      "source": [
        "<h1><b>Execicios 04</b></h1>\n",
        "<br> Exercicio retirado do site <\\https://wiki.python.org.br/EstruturaDeDecisao\\>\n",
        "\n",
        "Faça um Programa que peça os 3 lados de um triângulo. O programa deverá informar se os valores podem ser um triângulo. Indique, caso os lados formem um triângulo, se o mesmo é: equilátero, isósceles ou escaleno.\n",
        "Dicas:\n",
        "\n",
        "Três lados formam um triângulo quando a soma de quaisquer dois lados for maior que o terceiro;\n",
        "\n",
        "Triângulo Equilátero: três lados iguais;\n",
        "\n",
        "Triângulo Isósceles: quaisquer dois lados iguais;\n",
        "\n",
        "Triângulo Escaleno: três lados diferentes;"
      ]
    },
    {
      "cell_type": "code",
      "metadata": {
        "id": "qFKZ7VSm1jm6",
        "colab_type": "code",
        "colab": {
          "base_uri": "https://localhost:8080/",
          "height": 182
        },
        "outputId": "30d4db82-1a14-4fa6-f98e-b66e3f8910ca"
      },
      "source": [
        "\n",
        "# Apresentação\n",
        "print(\"\\n > Verificando lados de um triângulo!\")\n",
        "\n",
        "# Captando input do usuário\n",
        "l1 = float(input(\"\\nDigite o primeiro lado [1/3]: \"))\n",
        "l2 = float(input(\"Digite o segundo lado [2/3]: \"))\n",
        "l3 = float(input(\"Digite o terceiro lado [3/3]: \"))\n",
        "\n",
        "# Condições para os valores digitados formarem um triângulo\n",
        "cond_01 = l1 < l2 + l3\n",
        "cond_02 = l2 < l1 + l3\n",
        "cond_03 = l3 < l1 + l2\n",
        "\n",
        "# Apresentando resultados\n",
        "if cond_01 and cond_02 and cond_03:\n",
        "    if l1 == l2 == l3:\n",
        "        print('\\nOs lados formam um triângulo Equilátero (todos lados iguais)!\\n')\n",
        "    elif l1 == l2 or l1 == l3 or l2 == l3:\n",
        "        print('\\nOs lados formam um triângulo Isósceles (dois lados iguais)!\\n')\n",
        "    else:\n",
        "        print('\\nOs lados formam um triângulo Escaleno (todos lados diferentes)!\\n')\n",
        "else:\n",
        "    print('\\nOs valores informados não formam um triângulo!\\n')\n"
      ],
      "execution_count": 41,
      "outputs": [
        {
          "output_type": "stream",
          "text": [
            "\n",
            " > Verificando lados de um triângulo!\n",
            "\n",
            "Digite o primeiro lado [1/3]: 10\n",
            "Digite o segundo lado [2/3]: 10\n",
            "Digite o terceiro lado [3/3]: 12\n",
            "\n",
            "Os lados formam um triângulo Isósceles (dois lados iguais)!\n",
            "\n"
          ],
          "name": "stdout"
        }
      ]
    }
  ]
}