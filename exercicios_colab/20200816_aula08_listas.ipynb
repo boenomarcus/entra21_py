{
  "nbformat": 4,
  "nbformat_minor": 0,
  "metadata": {
    "colab": {
      "name": "20200816_aula08_listas.ipynb",
      "provenance": [],
      "collapsed_sections": []
    },
    "kernelspec": {
      "display_name": "Python 3",
      "language": "python",
      "name": "python3"
    },
    "language_info": {
      "codemirror_mode": {
        "name": "ipython",
        "version": 3
      },
      "file_extension": ".py",
      "mimetype": "text/x-python",
      "name": "python",
      "nbconvert_exporter": "python",
      "pygments_lexer": "ipython3",
      "version": "3.7.3"
    }
  },
  "cells": [
    {
      "cell_type": "markdown",
      "metadata": {
        "id": "UO2YKlABJXSk",
        "colab_type": "text"
      },
      "source": [
        "# Aluno: Marcus Moresco Boeno\n",
        "\n",
        "#### Data: 26-08-2020 (Quarta-Feira)\n",
        "#### Curso: Formação em Python - Entra21\n",
        "\n",
        "Este notebook contém os exercícios 1 a 7 e 1 a 3 da Aula 08 de python do Entra21 2020\n",
        "\n",
        "Os exercícios estão divididos em 2 seções:\n",
        "\n",
        "1. Listas e Métodos (Lista_Exercicios.ipynb)\n",
        " - Exercícios 1 a 7\n",
        "2. Funções e Mátodos de Listas (Lista_Funcoes_e_metodos.ipynb)\n",
        " - Exercícios 1 a 3"
      ]
    },
    {
      "cell_type": "markdown",
      "metadata": {
        "id": "SQjbJG_XI5vW",
        "colab_type": "text"
      },
      "source": [
        "# Listas e Métodos \n",
        "\n",
        "arquivo original: Lista_Exercicios.ipynb\n",
        "\n",
        "Exercícios 1 a 7"
      ]
    },
    {
      "cell_type": "code",
      "metadata": {
        "id": "xz7FsN-fKCfG",
        "colab_type": "code",
        "colab": {}
      },
      "source": [
        "# EXECUTE ESTE QUADRO PARA PODER USAR A LISTA\n",
        "lista = [10, 20, 'amor', 'abacaxi', 80, 'Abioluz', 'Cachorro grande é de arrasar']"
      ],
      "execution_count": 26,
      "outputs": []
    },
    {
      "cell_type": "markdown",
      "metadata": {
        "id": "iI9oZJ91I5k5",
        "colab_type": "text"
      },
      "source": [
        "1) Usando a indexação, escreva na tela a palavra abacaxi"
      ]
    },
    {
      "cell_type": "code",
      "metadata": {
        "id": "C0Kc-wx_I5JT",
        "colab_type": "code",
        "colab": {
          "base_uri": "https://localhost:8080/",
          "height": 35
        },
        "outputId": "b7e2226f-fe63-4681-d9b2-216060b30341"
      },
      "source": [
        "\n",
        "# Apresentado resultados\n",
        "print(lista[3])\n"
      ],
      "execution_count": 27,
      "outputs": [
        {
          "output_type": "stream",
          "text": [
            "abacaxi\n"
          ],
          "name": "stdout"
        }
      ]
    },
    {
      "cell_type": "markdown",
      "metadata": {
        "id": "aybZjTQdI6L8",
        "colab_type": "text"
      },
      "source": [
        "2) Usando a indexação, escreva na tela os seguintes dados: 20, amor, abacaxi"
      ]
    },
    {
      "cell_type": "code",
      "metadata": {
        "id": "YjybISgSI5Ai",
        "colab_type": "code",
        "colab": {
          "base_uri": "https://localhost:8080/",
          "height": 35
        },
        "outputId": "cc7ffe50-e976-42e3-dc0a-0dee399a02c5"
      },
      "source": [
        "\n",
        "# Apresentado resultados\n",
        "print(lista[1:4])\n"
      ],
      "execution_count": 28,
      "outputs": [
        {
          "output_type": "stream",
          "text": [
            "[20, 'amor', 'abacaxi']\n"
          ],
          "name": "stdout"
        }
      ]
    },
    {
      "cell_type": "markdown",
      "metadata": {
        "id": "0K_DRFsHI6r4",
        "colab_type": "text"
      },
      "source": [
        "3) Usando a indexação, escreva na tela uma lista com dados de 20 até Abioluz"
      ]
    },
    {
      "cell_type": "code",
      "metadata": {
        "id": "VBxxUmj8I43M",
        "colab_type": "code",
        "colab": {
          "base_uri": "https://localhost:8080/",
          "height": 35
        },
        "outputId": "43216147-2d26-4265-aa00-8bb5ed5db8ca"
      },
      "source": [
        "\n",
        "# Apresentado resultados\n",
        "print(lista[1:6])\n"
      ],
      "execution_count": 29,
      "outputs": [
        {
          "output_type": "stream",
          "text": [
            "[20, 'amor', 'abacaxi', 80, 'Abioluz']\n"
          ],
          "name": "stdout"
        }
      ]
    },
    {
      "cell_type": "markdown",
      "metadata": {
        "id": "vPEHh2XLI7N3",
        "colab_type": "text"
      },
      "source": [
        "4) Usando a indexação, escreva na tela os seguintes dados:\n",
        "\n",
        "10, amor, 80, Cachorro grande é de arrasar"
      ]
    },
    {
      "cell_type": "code",
      "metadata": {
        "id": "V4LcFBGnI4tg",
        "colab_type": "code",
        "colab": {
          "base_uri": "https://localhost:8080/",
          "height": 35
        },
        "outputId": "ec14dc55-0982-4722-d449-108d35e8d3bb"
      },
      "source": [
        "\n",
        "# Apresentado resultados\n",
        "print([lista[0], lista[2], lista[4], lista[6]])\n",
        "# ou print(lista[::2])\n"
      ],
      "execution_count": 30,
      "outputs": [
        {
          "output_type": "stream",
          "text": [
            "[10, 'amor', 80, 'Cachorro grande é de arrasar']\n"
          ],
          "name": "stdout"
        }
      ]
    },
    {
      "cell_type": "markdown",
      "metadata": {
        "id": "SA7AZzJtI7nC",
        "colab_type": "text"
      },
      "source": [
        "5) Usando a indexação escreva na tela os seguintes dados:\n",
        "\n",
        "amor - 10 - 10 - abacaxi - Cachorro grande é de arrasar - Abioluz - 10 - 20"
      ]
    },
    {
      "cell_type": "code",
      "metadata": {
        "id": "QTSMOj_yI4i8",
        "colab_type": "code",
        "colab": {
          "base_uri": "https://localhost:8080/",
          "height": 35
        },
        "outputId": "7d934304-4eed-41f7-e9a6-a25ea90a8177"
      },
      "source": [
        "\n",
        "# Apresentado resultados\n",
        "print([lista[2], lista[0], lista[0], lista[3], lista[6], lista[5], lista[0], lista[1]])\n"
      ],
      "execution_count": 31,
      "outputs": [
        {
          "output_type": "stream",
          "text": [
            "['amor', 10, 10, 'abacaxi', 'Cachorro grande é de arrasar', 'Abioluz', 10, 20]\n"
          ],
          "name": "stdout"
        }
      ]
    },
    {
      "cell_type": "markdown",
      "metadata": {
        "id": "ZRuKhH9oI8Gj",
        "colab_type": "text"
      },
      "source": [
        "6) Usando a indexação, escreva na tela uma lista com dados de 10 até 80"
      ]
    },
    {
      "cell_type": "code",
      "metadata": {
        "id": "Xf8OwAuMI4WI",
        "colab_type": "code",
        "colab": {
          "base_uri": "https://localhost:8080/",
          "height": 35
        },
        "outputId": "a14aac01-a2f3-4c9c-f1a4-abba8354db30"
      },
      "source": [
        "\n",
        "# Apresentado resultados\n",
        "print(lista[:5])\n"
      ],
      "execution_count": 32,
      "outputs": [
        {
          "output_type": "stream",
          "text": [
            "[10, 20, 'amor', 'abacaxi', 80]\n"
          ],
          "name": "stdout"
        }
      ]
    },
    {
      "cell_type": "markdown",
      "metadata": {
        "id": "heovQAqyI8iE",
        "colab_type": "text"
      },
      "source": [
        "7) Usando a indexação, escreva na tela os seguintes dados:\n",
        "\n",
        "10, abacaxi, Cachorro grande é de arrasar"
      ]
    },
    {
      "cell_type": "code",
      "metadata": {
        "id": "bX3moORVI4Fl",
        "colab_type": "code",
        "colab": {
          "base_uri": "https://localhost:8080/",
          "height": 35
        },
        "outputId": "69801352-da88-465c-9e20-cfb29065e2aa"
      },
      "source": [
        "\n",
        "# Apresentado resultados\n",
        "print([lista[0], lista[3], lista[6]])\n"
      ],
      "execution_count": 33,
      "outputs": [
        {
          "output_type": "stream",
          "text": [
            "[10, 'abacaxi', 'Cachorro grande é de arrasar']\n"
          ],
          "name": "stdout"
        }
      ]
    },
    {
      "cell_type": "markdown",
      "metadata": {
        "colab_type": "text",
        "id": "URMHdoK7eyAQ"
      },
      "source": [
        "# Funções e métodos de listas\n",
        "\n",
        "arquivo original: Lista_Funcoes_e_metodos.ipynb\n",
        "\n",
        "Exercícios 1 a 3\n",
        "\n"
      ]
    },
    {
      "cell_type": "markdown",
      "metadata": {
        "id": "NcxF8KH77g_b",
        "colab_type": "text"
      },
      "source": [
        "1) Crie uma lista vazia.\n",
        "\n",
        "Adicione as 3 palavras \"Abacate\" , \"Dia bonito\",  \"Maria Tereza\" , usando o .append() em cada uma destas palavras separadamente."
      ]
    },
    {
      "cell_type": "code",
      "metadata": {
        "id": "8BwjPmGe7g_c",
        "colab_type": "code",
        "colab": {
          "base_uri": "https://localhost:8080/",
          "height": 72
        },
        "outputId": "e5b356b7-72da-44ac-81ab-1494508b1711"
      },
      "source": [
        "\n",
        "# Criando lista vazia\n",
        "lista_ex01 = []\n",
        "\n",
        "# Adicionando valores\n",
        "lista_ex01.append(\"Abacate\")\n",
        "lista_ex01.append(\"Dia Bonito\")\n",
        "lista_ex01.append(\"Maria Tereza\")\n",
        "\n",
        "print(f\"\\nLista final: {lista_ex01}\\n\")\n"
      ],
      "execution_count": 34,
      "outputs": [
        {
          "output_type": "stream",
          "text": [
            "\n",
            "Lista final: ['Abacate', 'Dia Bonito', 'Maria Tereza']\n",
            "\n"
          ],
          "name": "stdout"
        }
      ]
    },
    {
      "cell_type": "markdown",
      "metadata": {
        "id": "Z5MefYFK7g_n",
        "colab_type": "text"
      },
      "source": [
        "2) Crie uma lista com 10 números qualquer.\n",
        "\n",
        "Usando as funções da lista responda:\n",
        "\n",
        "Quantos itens tem a lista?<br>\n",
        "Qual é o número maior?<br>\n",
        "Qual é o número menor?<br>\n",
        "Qual é o resultado da soma da lista?<br>\n",
        "\n",
        "\n"
      ]
    },
    {
      "cell_type": "code",
      "metadata": {
        "id": "pT5S3uzT7g_p",
        "colab_type": "code",
        "colab": {
          "base_uri": "https://localhost:8080/",
          "height": 127
        },
        "outputId": "aee6531d-3fba-429d-d94d-c6b6812e76d8"
      },
      "source": [
        "\n",
        "# Criando lista com 10 valores\n",
        "lista_ex02 = [1, 2, 3, 4, 5, 6, 7, 8, 9, 10]\n",
        "\n",
        "# Apresentando resultados\n",
        "print(f\"\\nExistem {len(lista_ex02)} itens na lista\")\n",
        "print(f\"O maior número da lista é {max(lista_ex02)}\")\n",
        "print(f\"O menor número da lista é {min(lista_ex02)}\")\n",
        "print(f\"A soma dos termos da lista é igual a {sum(lista_ex02)}\\n\")\n"
      ],
      "execution_count": 35,
      "outputs": [
        {
          "output_type": "stream",
          "text": [
            "\n",
            "Existem 10 itens na lista\n",
            "O maior número da lista é 10\n",
            "O menor número da lista é 1\n",
            "A soma dos termos da lista é igual a 55\n",
            "\n"
          ],
          "name": "stdout"
        }
      ]
    },
    {
      "cell_type": "markdown",
      "metadata": {
        "id": "GRaUtgj77g_0",
        "colab_type": "text"
      },
      "source": [
        "3) Estas 3 listas:\n",
        "\n",
        "vendas_armando = [100.00, 500.00, 258.50, 710.00, 50.50,750.00 ]<br>\n",
        "vendas_eduardo = [10.00, 1050.00, 859.75, 199.05, 500.50,750.00, 568.60, 950.00 ]<br>\n",
        "vendas_paulo = [950.00, 89.90, 2500.00, 1750.00,500.00]\n",
        "\n",
        "Estas listas são referente as vendas dos vendedores Armando, Paulo e Eduardo.\n",
        "\n",
        "3.1) Com base nelas e usando funções da lista mostradas em aula, mostre:<br>\n",
        "A média de vendas de cada um;<br>\n",
        "A venda total de cada vendedor;<br>\n",
        "A quantidade de vendas de cada vendedor.\n",
        "\n",
        "3.2) Calcule o valor de comissão que o dono da loja deve pagar para seus funcionários seguindo a regra:\n",
        "\n",
        "Para total de vendas de 0.00 a 1000.00 Reais - 1%<br>\n",
        "Para total de vendas de 1000.01 a 2500.00 Reais - 1.5%<br>\n",
        "Para total de vendas de 2500.01 a 5000.00 Reais - 2%<br>\n",
        "Para total de vendas a cima de 5000.01 Reais - 3%<br>\n"
      ]
    },
    {
      "cell_type": "code",
      "metadata": {
        "id": "gxP7cOp17g_1",
        "colab_type": "code",
        "colab": {
          "base_uri": "https://localhost:8080/",
          "height": 458
        },
        "outputId": "c2b4cc63-73f3-426e-906d-568c1d69a9bd"
      },
      "source": [
        "\n",
        "# Criando listas\n",
        "vendas_armando = [100.00, 500.00, 258.50, 710.00, 50.50, 750.00]\n",
        "vendas_eduardo = [10.00, 1050.00, 859.75, 199.05, 500.50, 750.00, 568.60, 950.00]\n",
        "vendas_paulo = [950.00, 89.90, 2500.00, 1750.00, 500.00]\n",
        "\n",
        "# ------ Exercício 3.1\n",
        "print(f\"\"\"\n",
        " >>> Exercício 3.1 - Informações de venda por vendedor\n",
        "\n",
        "> Armando\n",
        "    - Valor médio de vendas (R$): {sum(vendas_armando)/len(vendas_armando):.2f}\n",
        "    - Valor total de vendas (R$): {sum(vendas_armando):.2f}\n",
        "    - Quantidade de vendas: {len(vendas_armando)}\n",
        "\n",
        "> Eduardo\n",
        "    - Valor médio de vendas (R$): {sum(vendas_eduardo)/len(vendas_eduardo):.2f}\n",
        "    - Valor total de vendas (R$): {sum(vendas_eduardo):.2f}\n",
        "    - Quantidade de vendas: {len(vendas_eduardo)}\n",
        "\n",
        "> Paulo\n",
        "    - Valor médio de vendas (R$): {sum(vendas_paulo)/len(vendas_paulo):.2f}\n",
        "    - Valor total de vendas (R$): {sum(vendas_paulo):.2f}\n",
        "    - Quantidade de vendas: {len(vendas_paulo)}\n",
        "\"\"\")\n",
        "\n",
        "# ------ Exercício 3.2\n",
        "print(\" >>> Exercício 3.2 - Comissões por vendedor\")\n",
        "# Apresentando a comissão do vendedor Armando\n",
        "if sum(vendas_armando) <= 1000:\n",
        "    print(\"\\nA comissão do Armando é de R$ {:.2f} (1% sobre o total)\".format(\n",
        "        0.01*sum(vendas_armando)\n",
        "        )\n",
        "    )\n",
        "elif sum(vendas_armando) <= 2500:\n",
        "    print(\"\\nA comissão do Armando é de R$ {:.2f} (1.5% sobre o total)\".format(\n",
        "        0.015*sum(vendas_armando)\n",
        "        )\n",
        "    )\n",
        "elif sum(vendas_armando) <= 5000:\n",
        "    print(\"\\nA comissão do Armando é de R$ {:.2f} (2% sobre o total)\".format(\n",
        "        0.02*sum(vendas_armando)\n",
        "        )\n",
        "    )\n",
        "else:\n",
        "    print(\"\\nA comissão do Armando é de R$ {:.2f} (3% sobre o total)\".format(\n",
        "        0.03*sum(vendas_armando)\n",
        "        )\n",
        "    )\n",
        "\n",
        "# Apresentando a comissão do vendedor Eduardo\n",
        "if sum(vendas_eduardo) <= 1000:\n",
        "    print(\"A comissão do Eduardo é de R$ {:.2f} (1% sobre o total)\".format(\n",
        "        0.01*sum(vendas_eduardo)\n",
        "        )\n",
        "    )\n",
        "elif sum(vendas_eduardo) <= 2500:\n",
        "    print(\"A comissão do Eduardo é de R$ {:.2f} (1.5% sobre o total)\".format(\n",
        "        0.015*sum(vendas_eduardo)\n",
        "        )\n",
        "    )\n",
        "elif sum(vendas_eduardo) <= 5000:\n",
        "    print(\"A comissão do Eduardo é de R$ {:.2f} (2% sobre o total)\".format(\n",
        "        0.02*sum(vendas_eduardo)\n",
        "        )\n",
        "    )\n",
        "else:\n",
        "    print(\"A comissão do Eduardo é de R$ {:.2f} (3% sobre o total)\".format(\n",
        "        0.03*sum(vendas_eduardo)\n",
        "        )\n",
        "    )\n",
        "\n",
        "# Apresentando a comissão do vendedor Paulo\n",
        "if sum(vendas_paulo) <= 1000:\n",
        "    print(\"A comissão do Paulo é de R$ {:.2f} (1% sobre o total)\\n\".format(\n",
        "        0.01*sum(vendas_paulo)\n",
        "        )\n",
        "    )\n",
        "elif sum(vendas_paulo) <= 2500:\n",
        "    print(\"A comissão do Paulo é de R$ {:.2f} (1.5% sobre o total)\\n\".format(\n",
        "        0.015*sum(vendas_paulo)\n",
        "        )\n",
        "    )\n",
        "elif sum(vendas_paulo) <= 5000:\n",
        "    print(\"A comissão do Paulo é de R$ {:.2f} (2% sobre o total)\\n\".format(\n",
        "        0.02*sum(vendas_paulo)\n",
        "        )\n",
        "    )\n",
        "else:\n",
        "    print(\"A comissão do Paulo é de R$ {:.2f} (3% sobre o total)\\n\".format(\n",
        "        0.03*sum(vendas_paulo)\n",
        "        )\n",
        "    )\n"
      ],
      "execution_count": 36,
      "outputs": [
        {
          "output_type": "stream",
          "text": [
            "\n",
            " >>> Exercício 3.1 - Informações de venda por vendedor\n",
            "\n",
            "> Armando\n",
            "    - Valor médio de vendas (R$): 394.83\n",
            "    - Valor total de vendas (R$): 2369.00\n",
            "    - Quantidade de vendas: 6\n",
            "\n",
            "> Eduardo\n",
            "    - Valor médio de vendas (R$): 610.99\n",
            "    - Valor total de vendas (R$): 4887.90\n",
            "    - Quantidade de vendas: 8\n",
            "\n",
            "> Paulo\n",
            "    - Valor médio de vendas (R$): 1157.98\n",
            "    - Valor total de vendas (R$): 5789.90\n",
            "    - Quantidade de vendas: 5\n",
            "\n",
            " >>> Exercício 3.2 - Comissões por vendedor\n",
            "\n",
            "A comissão do Armando é de R$ 35.53 (1.5% sobre o total)\n",
            "A comissão do Eduardo é de R$ 97.76 (2% sobre o total)\n",
            "A comissão do Paulo é de R$ 173.70 (3% sobre o total)\n",
            "\n"
          ],
          "name": "stdout"
        }
      ]
    }
  ]
}