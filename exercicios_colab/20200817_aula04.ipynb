{
  "nbformat": 4,
  "nbformat_minor": 0,
  "metadata": {
    "colab": {
      "name": "ex_aula04_python_Marcus_Boeno.ipynb",
      "provenance": [],
      "collapsed_sections": []
    },
    "kernelspec": {
      "name": "python3",
      "display_name": "Python 3"
    }
  },
  "cells": [
    {
      "cell_type": "markdown",
      "metadata": {
        "id": "yeKcsyGNrRPQ",
        "colab_type": "text"
      },
      "source": [
        "# Aluno: Marcus Moresco Boeno\n",
        "\n",
        "#### Data: 17-08-2020 (Segunda-Feira)\n",
        "#### Curso: Formação em Python - Entra21\n",
        "\\\n",
        "Este notebook contém os exercícios 1 a 20 da Aula 04 de python do Entra21 2020\n",
        "\n",
        "Os exercícios estão divididos em 4 seções:\n",
        "\n",
        "1. Uso do print()\n",
        " - Exercícios 1 a 4\n",
        "2. Uso do input()\n",
        " - Exercícios 5 a 7\n",
        "3. Convertendo tipos de variáveis\n",
        " - Exercícios 8 a 11\n",
        "4. Operações matemáticas\n",
        " - Exercícios 12 a 20\n"
      ]
    },
    {
      "cell_type": "markdown",
      "metadata": {
        "id": "Ym_gG6HCqK7_",
        "colab_type": "text"
      },
      "source": [
        "\n",
        "---\n",
        "\n",
        "\n",
        "# Uso do print()\n",
        "\n",
        "\n",
        "\n",
        "---\n"
      ]
    },
    {
      "cell_type": "markdown",
      "metadata": {
        "id": "O5S35FofqXUr",
        "colab_type": "text"
      },
      "source": [
        "<h1><b>Exercicio 1</b></h1>\n",
        "\n",
        "Imprima seu nome completo e idade cada um em uma nova linha "
      ]
    },
    {
      "cell_type": "code",
      "metadata": {
        "id": "mvJNhgIqqpHj",
        "colab_type": "code",
        "colab": {
          "base_uri": "https://localhost:8080/",
          "height": 164
        },
        "outputId": "3113112d-f7c5-4583-b52e-0d7fdc46bab4"
      },
      "source": [
        "# Captando input do usuário\n",
        "nome = input(\"Qual o seu nome completo?! \")\n",
        "idade = input(\"Qual a sua idade?! \")\n",
        "\n",
        "# Apresentando os valores\n",
        "print(\"\\n--- Olá!\")\n",
        "print(f\"Seu nome completo é {nome}!\")\n",
        "print(f\"Sua idade é de {idade} anos!\")\n",
        "print(\"---\\n\")"
      ],
      "execution_count": 1,
      "outputs": [
        {
          "output_type": "stream",
          "text": [
            "Qual o seu nome completo?! Marcus Moresco Boeno\n",
            "Qual a sua idade?! 26\n",
            "\n",
            "--- Olá!\n",
            "Seu nome completo é Marcus Moresco Boeno!\n",
            "Sua idade é de 26 anos!\n",
            "---\n",
            "\n"
          ],
          "name": "stdout"
        }
      ]
    },
    {
      "cell_type": "markdown",
      "metadata": {
        "id": "Ge1qhR6SqvkB",
        "colab_type": "text"
      },
      "source": [
        "<h1><b>Exercicio 2</b></h1>\n",
        "\n",
        "Imprima o menu de uma aplicação de cadastro de pessoas\n",
        "\n",
        "O menu deve conter as opções de Cadastrar, Alterar, listar pessoas, alem da opção sair"
      ]
    },
    {
      "cell_type": "code",
      "metadata": {
        "id": "d9Cq1n8IqzJ3",
        "colab_type": "code",
        "colab": {
          "base_uri": "https://localhost:8080/",
          "height": 256
        },
        "outputId": "3d14c974-14aa-4e12-ef2b-9e1ffb3edea3"
      },
      "source": [
        "# Capturando input do usuário\n",
        "opcao = input(\"\"\"\n",
        ">>> Sistema de Cadastro de Pessoas Físicas\n",
        "\n",
        ">> Menu Principal\n",
        "\n",
        "[1] Cadastrar\n",
        "[2] Alterar\n",
        "[3] Listar pessoas cadastradas\n",
        "[4] Sair do sistema\n",
        "\n",
        "> Selecione uma opção: \"\"\")\n",
        "\n",
        "# Apresentando a opção escolhida\n",
        "print(f\"\\nVocê selecionou a opção {opcao}!\")"
      ],
      "execution_count": 26,
      "outputs": [
        {
          "output_type": "stream",
          "text": [
            "\n",
            ">>> Sistema de Cadastro de Pessoas Físicas\n",
            "\n",
            ">> Menu Principal\n",
            "\n",
            "[1] Cadastrar\n",
            "[2] Alterar\n",
            "[3] Listar pessoas cadastradas\n",
            "[4] Sair do sistema\n",
            "\n",
            "> Selecione uma opção: 4\n",
            "\n",
            "Você selecionou a opção 4!\n"
          ],
          "name": "stdout"
        }
      ]
    },
    {
      "cell_type": "markdown",
      "metadata": {
        "id": "wNHpefz9q3c6",
        "colab_type": "text"
      },
      "source": [
        "<h1><b>Exercicio 3</b></h1>\n",
        "\n",
        "Crie 3 variáveis\n",
        "\n",
        "Cada variável deve conter um número\n",
        "\n",
        "Imprima na tela a soma dos 3 números"
      ]
    },
    {
      "cell_type": "code",
      "metadata": {
        "id": "U7ZuaW9Wq6hv",
        "colab_type": "code",
        "colab": {
          "base_uri": "https://localhost:8080/",
          "height": 164
        },
        "outputId": "4190215a-a217-42c9-b4a4-ae91bb4277fe"
      },
      "source": [
        "# Capturando input do usuário\n",
        "print(\"\\n>> Criando 3 variáveis! <<\\n\")\n",
        "f1 = float(input(\"Digite o primeiro número: \"))\n",
        "f2 = float(input(\"Digite o segundo número: \"))\n",
        "f3 = float(input(\"Digite o terceiro número: \"))\n",
        "\n",
        "# Apresentando o resultado\n",
        "print(f\"\\nA somas dos três valores é igual a {f1+f2+f3}!\")"
      ],
      "execution_count": 4,
      "outputs": [
        {
          "output_type": "stream",
          "text": [
            "\n",
            ">> Criando 3 variáveis! <<\n",
            "\n",
            "Digite o primeiro número: 2\n",
            "Digite o segundo número: 3\n",
            "Digite o terceiro número: 4\n",
            "\n",
            "A somas dos três valores é igual a 9.0!\n"
          ],
          "name": "stdout"
        }
      ]
    },
    {
      "cell_type": "markdown",
      "metadata": {
        "id": "x42D0Wpcq82y",
        "colab_type": "text"
      },
      "source": [
        "<h1><b>Exercicio 4</b></h1>\n",
        "\n",
        "Imprima na tela uma mensagem de boas vindas"
      ]
    },
    {
      "cell_type": "code",
      "metadata": {
        "id": "KGdBiTEnq_QY",
        "colab_type": "code",
        "colab": {
          "base_uri": "https://localhost:8080/",
          "height": 35
        },
        "outputId": "444774b4-034a-4c39-caea-46d44004639f"
      },
      "source": [
        "# Imprimindo mensagem de boas vindas\n",
        "print(\"Olá, seja bem-vindo a turma de Python do Entra21 2020!\")"
      ],
      "execution_count": 5,
      "outputs": [
        {
          "output_type": "stream",
          "text": [
            "Olá, seja bem-vindo a turma de Python do Entra21 2020!\n"
          ],
          "name": "stdout"
        }
      ]
    },
    {
      "cell_type": "markdown",
      "metadata": {
        "id": "V8-Yh6OMshjv",
        "colab_type": "text"
      },
      "source": [
        "---\n",
        "\n",
        "\n",
        "# Uso do input()\n",
        "\n",
        "\n",
        "---"
      ]
    },
    {
      "cell_type": "markdown",
      "metadata": {
        "id": "GXKfuPO3skcY",
        "colab_type": "text"
      },
      "source": [
        "<h1><b>Exercicio 5</b></h1>\n",
        "\n",
        "Faça um programa que peça o nome do cliente e depois mostre uma mensagem de boas vindas."
      ]
    },
    {
      "cell_type": "code",
      "metadata": {
        "id": "yCHYPirftC3i",
        "colab_type": "code",
        "colab": {
          "base_uri": "https://localhost:8080/",
          "height": 90
        },
        "outputId": "78505050-b339-4684-c85e-83a285eeaca7"
      },
      "source": [
        "# Captando input do usuário\n",
        "nome = input(\"Qual o seu nome?! \")\n",
        "\n",
        "# Apresentando o resultado\n",
        "print(f\"\\nSeja bem-vindo, {nome}!\\n\")"
      ],
      "execution_count": 8,
      "outputs": [
        {
          "output_type": "stream",
          "text": [
            "Qual o seu nome?! Marcus Moresco Boeno\n",
            "\n",
            "Seja bem-vindo, Marcus Moresco Boeno!\n",
            "\n"
          ],
          "name": "stdout"
        }
      ]
    },
    {
      "cell_type": "markdown",
      "metadata": {
        "id": "VsQsuTesskx1",
        "colab_type": "text"
      },
      "source": [
        "<h1><b>Exercicio 6</b></h1>\n",
        "\n",
        "Escreva um programa que peça o nome e a idade do cliente.\n",
        "\n",
        "Depois mostre uma mensagem com o nome e a idade do cliente dando boas vindas."
      ]
    },
    {
      "cell_type": "code",
      "metadata": {
        "id": "1dPHW_HZtDVD",
        "colab_type": "code",
        "colab": {
          "base_uri": "https://localhost:8080/",
          "height": 109
        },
        "outputId": "8fb25098-5496-4f7e-da63-69787c24bfac"
      },
      "source": [
        "# Captando o input do usuário\n",
        "nome = input(\"Nome do cliente: \")\n",
        "idade = int(input(\"Idade do cliente: \"))\n",
        "\n",
        "# Apresentando os resultados\n",
        "print(f\"\\nOlá {nome}, seja bem-vindo! Parabéns pelos seus {idade} anos de vida!\\n\")"
      ],
      "execution_count": 9,
      "outputs": [
        {
          "output_type": "stream",
          "text": [
            "Nome do cliente: João Vasconcellos\n",
            "Idade do cliente: 19\n",
            "\n",
            "Olá João Vasconcellos, seja bem-vindo! Parabéns pelos seus 19 anos de vida!\n",
            "\n"
          ],
          "name": "stdout"
        }
      ]
    },
    {
      "cell_type": "markdown",
      "metadata": {
        "id": "gx28UNnVs9cD",
        "colab_type": "text"
      },
      "source": [
        "<h1><b>Exercicio 7</b></h1>\n",
        "Escreva um programa que peça o nome e o sobrenome do cliente e mostre na tela um em cada linha."
      ]
    },
    {
      "cell_type": "code",
      "metadata": {
        "id": "kMNlW6BUtEAU",
        "colab_type": "code",
        "colab": {
          "base_uri": "https://localhost:8080/",
          "height": 164
        },
        "outputId": "8c807b7a-be28-4101-ca44-9d0818b0f5e0"
      },
      "source": [
        "# Captando o input do usuário\n",
        "nome = input(\"Primeiro nome do cliente: \")\n",
        "sobrenome = input(\"Sobrenome do cliente: \")\n",
        "\n",
        "# Apresentando os resultados\n",
        "print(\"\\n> Dados do cliente\")\n",
        "print(f\"\\nNome: {nome}\")\n",
        "print(f\"Sobrenome: {sobrenome}\\n\")"
      ],
      "execution_count": 10,
      "outputs": [
        {
          "output_type": "stream",
          "text": [
            "Primeiro nome do cliente: Marcus\n",
            "Sobrenome do cliente: Boeno\n",
            "\n",
            "> Dados do cliente\n",
            "\n",
            "Nome: Marcus\n",
            "Sobrenome: Boeno\n",
            "\n"
          ],
          "name": "stdout"
        }
      ]
    },
    {
      "cell_type": "markdown",
      "metadata": {
        "id": "ftWWYV2IslIs",
        "colab_type": "text"
      },
      "source": [
        "---\n",
        "\n",
        "\n",
        "# Convertendo Tipos de Variáveis\n",
        "\n",
        "\n",
        "---"
      ]
    },
    {
      "cell_type": "markdown",
      "metadata": {
        "id": "h5M9-r1psoS_",
        "colab_type": "text"
      },
      "source": [
        "<h1><b>Exercicio 8</b></h1>\n",
        "\n",
        "Converta as seguintes variáveis e imprima na tela o valor e o tipo da variável"
      ]
    },
    {
      "cell_type": "code",
      "metadata": {
        "id": "cyFzaAjDtPyt",
        "colab_type": "code",
        "colab": {
          "base_uri": "https://localhost:8080/",
          "height": 550
        },
        "outputId": "0199d102-cb78-42fe-927b-5c1070e33509"
      },
      "source": [
        "# 8.1 Para string (exemplo)\n",
        "numero = 10  # variável para conversão\n",
        "\n",
        "numero = str(numero) # convertendo a variável\n",
        "print(f\"\\n8.1 - Convertendo {numero} ({type(numero)}) para string, temos:\")\n",
        "print(numero,type(numero)) # imprimindo na tela o valor e o tipo da variável\n",
        "\n",
        "print('\\n')\n",
        "\n",
        "# 8.2 Para float\n",
        "valor = '1.99'\n",
        "print(f\"8.2 - Convertendo {valor} ({type(valor)}) para float, temos:\")\n",
        "print(float(valor),type(float(valor)))\n",
        "\n",
        "\n",
        "print('\\n')\n",
        "\n",
        "# 8.3 Para inteiro\n",
        "inteiro = 8.75\n",
        "print(f\"8.3 - Convertendo {inteiro} ({type(inteiro)}) para inteiro, temos:\")\n",
        "print(int(inteiro),type(int(inteiro)))\n",
        "\n",
        "print('\\n')\n",
        "\n",
        "# 8.4 Para string\n",
        "texto_idade = 9\n",
        "print(f\"8.4 - Convertendo {texto_idade} ({type(texto_idade)}) para string, temos:\")\n",
        "print(str(texto_idade),type(str(texto_idade)))\n",
        "\n",
        "\n",
        "print('\\n')\n",
        "\n",
        "# 8.5 Para float\n",
        "valor = 10\n",
        "print(f\"8.5 - Convertendo {valor} ({type(valor)}) para float, temos:\")\n",
        "print(float(valor),type(float(valor)))\n",
        "\n",
        "\n",
        "print('\\n')\n",
        "\n",
        "# 8.6 Para inteiro\n",
        "idade = '9'\n",
        "print(f\"8.6 - Convertendo {idade} ({type(idade)}) para inteiro, temos:\")\n",
        "print(int(idade),type(int(idade)))\n",
        "\n",
        "\n",
        "print('\\n')\n",
        "\n",
        "# 8.7 Para string\n",
        "peso_quilo = 1.755\n",
        "print(f\"8.7 - Convertendo {peso_quilo} ({type(peso_quilo)}) para string, temos:\")\n",
        "print(str(peso_quilo),type(str(peso_quilo)))\n",
        "\n",
        "print('\\n')"
      ],
      "execution_count": 25,
      "outputs": [
        {
          "output_type": "stream",
          "text": [
            "\n",
            "8.1 - Convertendo 10 (<class 'str'>) para string, temos:\n",
            "10 <class 'str'>\n",
            "\n",
            "\n",
            "8.2 - Convertendo 1.99 (<class 'str'>) para float, temos:\n",
            "1.99 <class 'float'>\n",
            "\n",
            "\n",
            "8.3 - Convertendo 8.75 (<class 'float'>) para inteiro, temos:\n",
            "8 <class 'int'>\n",
            "\n",
            "\n",
            "8.4 - Convertendo 9 (<class 'int'>) para string, temos:\n",
            "9 <class 'str'>\n",
            "\n",
            "\n",
            "8.5 - Convertendo 10 (<class 'int'>) para float, temos:\n",
            "10.0 <class 'float'>\n",
            "\n",
            "\n",
            "8.6 - Convertendo 9 (<class 'str'>) para inteiro, temos:\n",
            "9 <class 'int'>\n",
            "\n",
            "\n",
            "8.7 - Convertendo 1.755 (<class 'float'>) para string, temos:\n",
            "1.755 <class 'str'>\n",
            "\n",
            "\n"
          ],
          "name": "stdout"
        }
      ]
    },
    {
      "cell_type": "markdown",
      "metadata": {
        "id": "wJja3_Btsorv",
        "colab_type": "text"
      },
      "source": [
        "<h1><b>Exercicio 9</b></h1>\n",
        "Faça um programa que peça o nome do cliente, a quantidade do produto (inteiro) e o preço (float).\n",
        "\n",
        "Mostre o nome do cliente e o valor total da venda."
      ]
    },
    {
      "cell_type": "code",
      "metadata": {
        "id": "4EK26I8JtQIL",
        "colab_type": "code",
        "colab": {
          "base_uri": "https://localhost:8080/",
          "height": 127
        },
        "outputId": "9481fa3d-e27c-4322-f007-8831a6a9bf9c"
      },
      "source": [
        "# Captando input do usuário\n",
        "nome = input(\"Digite o nome do cliente: \")\n",
        "qte = int(input(\"Quantidade de cookies comprados: \"))\n",
        "preco = float(input(\"Valor do produto, em R$: \"))\n",
        "\n",
        "# Apresentando resultados\n",
        "print(f\"\\nO cliente {nome} comprou {qte} cookies e gastou R$ {preco*qte}\\n\")"
      ],
      "execution_count": 12,
      "outputs": [
        {
          "output_type": "stream",
          "text": [
            "Digite o nome do cliente: Marcus\n",
            "Quantidade de cookies comprados: 20\n",
            "Valor do produto, em R$: 1.50\n",
            "\n",
            "O cliente Marcus comprou 20 cookies e gastou R$ 30.0\n",
            "\n"
          ],
          "name": "stdout"
        }
      ]
    },
    {
      "cell_type": "markdown",
      "metadata": {
        "id": "OXafp1L9so_v",
        "colab_type": "text"
      },
      "source": [
        "<h1><b>Exercicio 10</b></h1>\n",
        "Faça um programa que peça o nome de 2 produtos, a quantidade comprada de cada produto (inteiro) e o valor (float) de cada um.\n",
        "\n",
        "Mostre o nome a quantidade, preço por unidade e o total de cada produto."
      ]
    },
    {
      "cell_type": "code",
      "metadata": {
        "id": "adWaXSeQtQd6",
        "colab_type": "code",
        "colab": {
          "base_uri": "https://localhost:8080/",
          "height": 274
        },
        "outputId": "3f704576-fa42-462d-e291-f9042f29ac0f"
      },
      "source": [
        "# Captando input do usuário\n",
        "print(\"\\nCadastrando Produto 1\")\n",
        "prod1 = input(\"Digite o nome do primeiro produto: \")\n",
        "qte1 = int(input(f\"Quantidade comprada: \"))\n",
        "preco1 = float(input(\"Valor do produto, em R$: \"))\n",
        "\n",
        "print(\"\\nCadastrando Produto 2\")\n",
        "prod2 = input(\"Digite o nome do segundo produto: \")\n",
        "qte2 = int(input(\"Quantidade comprada: \"))\n",
        "preco2 = float(input(\"Valor do produto, em R$: \"))\n",
        "\n",
        "# Apresentando resultados\n",
        "print(f\"\\nO produto {prod1} tem custo unitário de R$ {preco1}. Dessa forma, {qte1} unidades custam R$ {preco1*qte1}\")\n",
        "print(f\"O produto {prod2} tem custo unitário de R$ {preco2}. Dessa forma, {qte2} unidades custam R$ {preco2*qte2}\\n\")"
      ],
      "execution_count": 13,
      "outputs": [
        {
          "output_type": "stream",
          "text": [
            "\n",
            "Cadastrando Produto 1\n",
            "Digite o nome do primeiro produto: Pão\n",
            "Quantidade comprada: 6\n",
            "Valor do produto, em R$: 0.50\n",
            "\n",
            "Cadastrando Produto 2\n",
            "Digite o nome do segundo produto: Leite\n",
            "Quantidade comprada: 2\n",
            "Valor do produto, em R$: 2.75\n",
            "\n",
            "O produto Pão tem custo unitário de R$ 0.5. Dessa forma, 6 unidades custam R$ 3.0\n",
            "O produto Leite tem custo unitário de R$ 2.75. Dessa forma, 2 unidades custam R$ 5.5\n",
            "\n"
          ],
          "name": "stdout"
        }
      ]
    },
    {
      "cell_type": "markdown",
      "metadata": {
        "id": "TThZalAdtQvP",
        "colab_type": "text"
      },
      "source": [
        "<h1><b>Exercicio 11</b></h1>\n",
        "Escreva um programa que peça o peso (float) de 3 pessoas e motre na tela a soma de todos os pesos. "
      ]
    },
    {
      "cell_type": "code",
      "metadata": {
        "id": "RtriFkGCtRON",
        "colab_type": "code",
        "colab": {
          "base_uri": "https://localhost:8080/",
          "height": 182
        },
        "outputId": "fb60dc2c-5a56-44a2-c514-b902f4e9e1d9"
      },
      "source": [
        "# Captando input do usuário\n",
        "print(\"\\n > Somando os pesos!\\n\")\n",
        "p1 = float(input(\"Digite o peso [kg] da primeira pessoa: \"))\n",
        "p2 = float(input(\"Digite o peso [kg] da segunda pessoa: \"))\n",
        "p3 = float(input(\"Digite o peso [kg] da terceira pessoa: \"))\n",
        "\n",
        "# Apresetando os resultados\n",
        "print(f\"\\nA soma dos pesos das três pessoas é igual a {p1+p2+p3} kg\\n\")"
      ],
      "execution_count": 14,
      "outputs": [
        {
          "output_type": "stream",
          "text": [
            "\n",
            " > Somando os pesos!\n",
            "\n",
            "Digite o peso [kg] da primeira pessoa: 75\n",
            "Digite o peso [kg] da segunda pessoa: 80.4\n",
            "Digite o peso [kg] da terceira pessoa: 65\n",
            "\n",
            "A soma dos pesos das três pessoas é igual a 220.4 kg\n",
            "\n"
          ],
          "name": "stdout"
        }
      ]
    },
    {
      "cell_type": "markdown",
      "metadata": {
        "id": "kZlzH849spRA",
        "colab_type": "text"
      },
      "source": [
        "---\n",
        "\n",
        "\n",
        "# Operações Matemáticas Básicas\n",
        "\n",
        "\n",
        "---"
      ]
    },
    {
      "cell_type": "markdown",
      "metadata": {
        "id": "zC5v1xLDtr0Q",
        "colab_type": "text"
      },
      "source": [
        "<h1><b>Exercicio 12</b></h1>\n",
        "\n",
        "Crie um program que peça ao usuário que digite 2 números reias(float) e mostre:\n",
        "\n",
        "A soma dos dois<br>\n",
        "A multiplicação dos dois<br>\n",
        "A divisão do primeiro com o segundo<br>\n",
        "A subtração dos dois<br>"
      ]
    },
    {
      "cell_type": "code",
      "metadata": {
        "id": "h3SDrZ_5traE",
        "colab_type": "code",
        "colab": {
          "base_uri": "https://localhost:8080/",
          "height": 201
        },
        "outputId": "52868a72-993e-4902-8ff5-013369a4d273"
      },
      "source": [
        "# Captando o input do usuário\n",
        "print(\"\\n> Digite dois números reais\")\n",
        "f1 = float(input(\"Digite o primeiro valor: \"))\n",
        "f2 = float(input(\"Digite o segundo valor: \"))\n",
        "\n",
        "# Apresentando os resultados\n",
        "print(f\"\\nA soma de {f1} e {f2}, é igual a {f1+f2}\")\n",
        "print(f\"A multiplicação de {f1} por {f2}, é igual a {f1*f2}\")\n",
        "print(f\"A divisão de {f1} por {f2}, é igual a {f1/f2}\")\n",
        "print(f\"A subtração de {f1} e {f2}, é igual a {f1-f2}\\n\")"
      ],
      "execution_count": 15,
      "outputs": [
        {
          "output_type": "stream",
          "text": [
            "\n",
            "> Digite dois números reais\n",
            "Digite o primeiro valor: 22.4\n",
            "Digite o segundo valor: 13\n",
            "\n",
            "A soma de 22.4 e 13.0, é igual a 35.4\n",
            "A multiplicação de 22.4 por 13.0, é igual a 291.2\n",
            "A divisão de 22.4 por 13.0, é igual a 1.723076923076923\n",
            "A subtração de 22.4 e 13.0, é igual a 9.399999999999999\n",
            "\n"
          ],
          "name": "stdout"
        }
      ]
    },
    {
      "cell_type": "markdown",
      "metadata": {
        "id": "Ushfgp2etsWF",
        "colab_type": "text"
      },
      "source": [
        "<h1><b>Exercicio 13</b></h1>\n",
        "Crie um programa que solicite o valor de x (inteiro)\n",
        "\n",
        "calcule usando a fórmula x+3\n",
        "\n",
        "mostre o resultado"
      ]
    },
    {
      "cell_type": "code",
      "metadata": {
        "id": "kr27dhZztvou",
        "colab_type": "code",
        "colab": {
          "base_uri": "https://localhost:8080/",
          "height": 90
        },
        "outputId": "febbffb7-9b27-4bf5-f7a7-80f1794271a2"
      },
      "source": [
        "# Captando input do usuário\n",
        "x = int(input(\"Digite o valor de x (inteiro): \"))\n",
        "\n",
        "# Apresentado o resultado\n",
        "res = x + 3\n",
        "print(f\"\\nO resultado de x+3 é igual a {res}\\n\")"
      ],
      "execution_count": 16,
      "outputs": [
        {
          "output_type": "stream",
          "text": [
            "Digite o valor de x (inteiro): 6\n",
            "\n",
            "O resultado de x+3 é igual a 9\n",
            "\n"
          ],
          "name": "stdout"
        }
      ]
    },
    {
      "cell_type": "markdown",
      "metadata": {
        "id": "19X-R06mttIX",
        "colab_type": "text"
      },
      "source": [
        "<h1><b>Exercicio 14</b></h1>\n",
        "Crie um programa que solicite o valor de x (inteiro)\n",
        "\n",
        "calcule usando a fórmula 2x+3\n",
        "\n",
        "mostre o resultado"
      ]
    },
    {
      "cell_type": "code",
      "metadata": {
        "id": "JB2RkPJ3twTv",
        "colab_type": "code",
        "colab": {
          "base_uri": "https://localhost:8080/",
          "height": 90
        },
        "outputId": "30bf6388-2ae9-4cd4-8318-541f31ec7de6"
      },
      "source": [
        "# Captando input do usuário\n",
        "x = int(input(\"Digite o valor de x (inteiro): \"))\n",
        "\n",
        "# Apresentado o resultado\n",
        "res = 2*x + 3\n",
        "print(f\"\\nO resultado de 2*x+3 é igual a {res}\\n\")"
      ],
      "execution_count": 17,
      "outputs": [
        {
          "output_type": "stream",
          "text": [
            "Digite o valor de x (inteiro): 6\n",
            "\n",
            "O resultado de 2*x+3 é igual a 15\n",
            "\n"
          ],
          "name": "stdout"
        }
      ]
    },
    {
      "cell_type": "markdown",
      "metadata": {
        "id": "PH-rLCtotteA",
        "colab_type": "text"
      },
      "source": [
        "<h1><b>Exercicio 15</b></h1>\n",
        "Crie um programa que solicite o valor de x (inteiro)\n",
        "\n",
        "calcule usando a fórmula 3x-x+3\n",
        "\n",
        "mostre o resultado"
      ]
    },
    {
      "cell_type": "code",
      "metadata": {
        "id": "F7qvmrhJtwr1",
        "colab_type": "code",
        "colab": {
          "base_uri": "https://localhost:8080/",
          "height": 90
        },
        "outputId": "f7a7cbb9-3b06-4c0d-a9e8-a2b2d716c397"
      },
      "source": [
        "# Captando input do usuário\n",
        "x = int(input(\"Digite o valor de x (inteiro): \"))\n",
        "\n",
        "# Apresentado o resultado\n",
        "res = 3*x - x + 3\n",
        "print(f\"\\nO resultado de 3*x-x+3 é igual a {res}\\n\")"
      ],
      "execution_count": 18,
      "outputs": [
        {
          "output_type": "stream",
          "text": [
            "Digite o valor de x (inteiro): 6\n",
            "\n",
            "O resultado de 3*x-x+3 é igual a 15\n",
            "\n"
          ],
          "name": "stdout"
        }
      ]
    },
    {
      "cell_type": "markdown",
      "metadata": {
        "id": "mZnCqFv0tt1F",
        "colab_type": "text"
      },
      "source": [
        "<h1><b>Exercicio 16</b></h1>\n",
        "Foi verificado que a venda de bermudas aumenta conforme aumenta a temperatura (t) (float) conforme a seguinte fórmula:\n",
        "\n",
        "bermudas = 1.5t + t + 150\n",
        "\n",
        "Lembrando que o t significa temperatura.\n",
        "\n",
        "Faça um programa para o seu superior que peça a temperatura e mostre a venda prevista de bermudas."
      ]
    },
    {
      "cell_type": "code",
      "metadata": {
        "id": "bpQoqX7CtxSi",
        "colab_type": "code",
        "colab": {
          "base_uri": "https://localhost:8080/",
          "height": 127
        },
        "outputId": "55931356-7df5-446b-8bba-8c5f7b706681"
      },
      "source": [
        "# Captando input do usuário\n",
        "print(\"\\n> Previsão de venda de bermudas de acordo com a temperatura!\")\n",
        "t = float(input(\"Qual a previsão de temperatura, em °C: \"))\n",
        "\n",
        "# Apresentado o resultado\n",
        "bermudas = 1.5*t + t + 150\n",
        "print(f\"\\nA previsão de venda de bermudas é de {bermudas} unidades\\n\")"
      ],
      "execution_count": 20,
      "outputs": [
        {
          "output_type": "stream",
          "text": [
            "\n",
            "> Previsão de venda de bermudas de acordo com a temperatura!\n",
            "Qual a previsão de temperatura, em °C: 35.5\n",
            "\n",
            "A previsão de venda de bermudas é de 238.75 unidades\n",
            "\n"
          ],
          "name": "stdout"
        }
      ]
    },
    {
      "cell_type": "markdown",
      "metadata": {
        "id": "CmSJLwk_tuKW",
        "colab_type": "text"
      },
      "source": [
        "<h1><b>Exercicio 17</b></h1>\n",
        "A formula de calculo de área de um circulo é:\n",
        "\n",
        "area = pi*r²\n",
        "\n",
        "Sabemos que:\n",
        "\n",
        "pi = 3.14<br>\n",
        "r = raio da circunferência em metros (float)\n",
        "\n",
        "Crie um programa que peça ao usuário o raio e calcule a área da circunferência"
      ]
    },
    {
      "cell_type": "code",
      "metadata": {
        "id": "7WG04BPCtxzc",
        "colab_type": "code",
        "colab": {
          "base_uri": "https://localhost:8080/",
          "height": 127
        },
        "outputId": "b6897c69-0ecd-48b7-abb7-23eb06845b84"
      },
      "source": [
        "# Captando o input do usuário\n",
        "print(\"\\n> Cálculo da área de uma circunferência\")\n",
        "r = float(input(\"Qual é o raio da circunferência, em metros: \"))\n",
        "\n",
        "# Apresentado o resultado\n",
        "area = 3.14*r**2\n",
        "print(f\"\\nA área da circunferência é de {area} m²\\n\")"
      ],
      "execution_count": 21,
      "outputs": [
        {
          "output_type": "stream",
          "text": [
            "\n",
            "> Cálculo da área de uma circunferência\n",
            "Qual é o raio da circunferência, em metros: 6\n",
            "\n",
            "A área da circunferência é de 113.04 m²\n",
            "\n"
          ],
          "name": "stdout"
        }
      ]
    },
    {
      "cell_type": "markdown",
      "metadata": {
        "id": "0vZfcdY5tuf8",
        "colab_type": "text"
      },
      "source": [
        "<h1><b>Exercicio 18</b></h1>\n",
        "Crie um programa que solicite o valores (inteiros) de a, b e c para o cálculo do delta\n",
        "\n",
        "A fórmula do delta é:\n",
        "\n",
        "delta = b²-4ac\n",
        "\n",
        "após calcular, mostre o resultado na tela."
      ]
    },
    {
      "cell_type": "code",
      "metadata": {
        "id": "wdHsO8IhtyN7",
        "colab_type": "code",
        "colab": {
          "base_uri": "https://localhost:8080/",
          "height": 164
        },
        "outputId": "c4b3a31d-d15f-479e-cdde-64408dbe8005"
      },
      "source": [
        "# Captando o input do usuário\n",
        "print(\"\\n> Cálculo do Delta (Fórmula de Bhaskara)\")\n",
        "a = int(input(\"Digite o valor de a: \"))\n",
        "b = int(input(\"Digite o valor de b: \"))\n",
        "c = int(input(\"Digite o valor de c: \"))\n",
        "\n",
        "# Apresentado o resultado\n",
        "delta = b**2 - 4*a*c\n",
        "print(f\"\\nO Delta é igual a {delta}\\n\")"
      ],
      "execution_count": 22,
      "outputs": [
        {
          "output_type": "stream",
          "text": [
            "\n",
            "> Cálculo do Delta (Fórmula de Bhaskara)\n",
            "Digite o valor de a: 2\n",
            "Digite o valor de b: 4\n",
            "Digite o valor de c: 5\n",
            "\n",
            "O Delta é igual a -24\n",
            "\n"
          ],
          "name": "stdout"
        }
      ]
    },
    {
      "cell_type": "markdown",
      "metadata": {
        "id": "Kvq99k6Dtu3A",
        "colab_type": "text"
      },
      "source": [
        "<h1><b>Exercicio 19</b></h1>\n",
        "Para calcular o valor do empréstimo usa-se a seguinte fórmula:\n",
        "\n",
        "valor_receber \\= dinheiro_emprestado\\*(1\\+(taxa_juros\\/100))\\*\\*tempo_emprestimo\n",
        "\n",
        "<b>Sendo que:</b><br>\n",
        "valor_receber (float) -> É o valor que você deve receber de volta. Este valor é sempre maior que o valor emprestado.<br>\n",
        "dinheiro_emprestado (float) -> É o valor que você está emprestando.<br>\n",
        "taxa_juros (float) -> Essa é a taxa de juros em porcentagem que irá ser aplicado no valor emprestado todo o mês aumentando o valor a receber<br>\n",
        "tempo_emprestimo (inteiro) -> É o tempo que vai demorar para voê receber o dinheiro de volta.\n",
        "\n",
        "Se você emprestou R$150.00 por 3 mêses a uma taxa de 4.5 porcento ao mês, você deve fazer a seguinte conta:<br>\n",
        "valor_receber \\= 150\\*(1\\+(4.5\\/100))\\*\\*3<br>\n",
        "o resultado deve ser: 171.17491874999996\n",
        "\n",
        "\n",
        "Crie um programa que calcule o emprestimo de R$250.00 a uma taxa de 5.5 porcento ao mês. O programa deve pedir ao usuário que digite quantos mêses deve durar o empréstimo e mostre na tela o valor a ser recebido."
      ]
    },
    {
      "cell_type": "code",
      "metadata": {
        "id": "hgCxrxiUtyik",
        "colab_type": "code",
        "colab": {
          "base_uri": "https://localhost:8080/",
          "height": 127
        },
        "outputId": "9aefc3df-ad5e-4032-8a70-f2d277aeb3a3"
      },
      "source": [
        "# Captando input do usuário\n",
        "print(\"\\n > Cálculo do valor de empréstimo\")\n",
        "dinheiro_emprestado = 250\n",
        "taxa_juros = 5.5\n",
        "tempo_emprestimo = int(input(\"Qual a duração, em meses, do empréstimo? \"))\n",
        "\n",
        "# Apresentando o resultado\n",
        "valor_receber = dinheiro_emprestado*(1+(taxa_juros/100))**tempo_emprestimo\n",
        "print(f\"\\nO valor a ser recebido, após {tempo_emprestimo} meses, será de R$ {valor_receber}\\n\")"
      ],
      "execution_count": 23,
      "outputs": [
        {
          "output_type": "stream",
          "text": [
            "\n",
            " > Cálculo do valor de empréstimo\n",
            "Qual a duração, em meses, do empréstimo? 3\n",
            "\n",
            "O valor a ser recebido, após 3 meses, será de R$ 293.56034374999996\n",
            "\n"
          ],
          "name": "stdout"
        }
      ]
    },
    {
      "cell_type": "markdown",
      "metadata": {
        "id": "O6lwiQ9ftvKA",
        "colab_type": "text"
      },
      "source": [
        "<h1><b>Exercicio 20</b></h1>\n",
        "Usando a seguinte fórmula:\n",
        "\n",
        "valor_receber \\= dinheiro_emprestado\\*(1\\+(taxa_juros\\/100))\\*\\*tempo_emprestimo\n",
        "\n",
        "Crie um programa que solicite ao usuário o valor do dinheiro emprestado, a taxa de juros em porcentagem e o tempo do empréstimo.\n",
        "\n",
        "Mostre na telas o valor do dinheiro emprestado, a taxa de juros em porcentagem, tempo do empréstimo e o valor que deve ser devolvido no final do empréstimo."
      ]
    },
    {
      "cell_type": "code",
      "metadata": {
        "id": "_ZS0locFty_4",
        "colab_type": "code",
        "colab": {
          "base_uri": "https://localhost:8080/",
          "height": 256
        },
        "outputId": "1f491b00-0e22-48e6-a96f-ae0cf8062b52"
      },
      "source": [
        "# Captando input do usuário\n",
        "print(\"\\n > Cálculo do valor de empréstimo\")\n",
        "dinheiro_emprestado = float(input(\"Qual o valor emprestado, em R$? \"))\n",
        "taxa_juros = float(input(\"Qual a taxa de juros, em %? \"))\n",
        "tempo_emprestimo = int(input(\"Qual a duração, em meses, do empréstimo? \"))\n",
        "\n",
        "# Apresentando o resultado\n",
        "valor_receber = dinheiro_emprestado*(1+(taxa_juros/100))**tempo_emprestimo\n",
        "print(\"\\n > Dados do empréstimo:\")\n",
        "print(f\"Valor emprestado, em R$: {dinheiro_emprestado}\")\n",
        "print(f\"Taxa de juros, em %: {taxa_juros}\")\n",
        "print(f\"Duração do empréstimo, em meses: {tempo_emprestimo}\")\n",
        "print(f\"\\nO valor a ser recebido é de R$ {valor_receber}\\n\")"
      ],
      "execution_count": 24,
      "outputs": [
        {
          "output_type": "stream",
          "text": [
            "\n",
            " > Cálculo do valor de empréstimo\n",
            "Qual o valor emprestado, em R$? 1000\n",
            "Qual a taxa de juros, em %? 3.5\n",
            "Qual a duração, em meses, do empréstimo? 10\n",
            "\n",
            " > Dados do empréstimo:\n",
            "Valor emprestado, em R$: 1000.0\n",
            "Taxa de juros, em %: 3.5\n",
            "Duração do empréstimo, em meses: 10\n",
            "\n",
            "O valor a ser recebido é de R$ 1410.598760621121\n",
            "\n"
          ],
          "name": "stdout"
        }
      ]
    }
  ]
}