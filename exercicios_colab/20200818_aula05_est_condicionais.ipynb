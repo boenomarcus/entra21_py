{
  "nbformat": 4,
  "nbformat_minor": 0,
  "metadata": {
    "kernelspec": {
      "display_name": "Python 3",
      "language": "python",
      "name": "python3"
    },
    "language_info": {
      "codemirror_mode": {
        "name": "ipython",
        "version": 3
      },
      "file_extension": ".py",
      "mimetype": "text/x-python",
      "name": "python",
      "nbconvert_exporter": "python",
      "pygments_lexer": "ipython3",
      "version": "3.8.2-final"
    },
    "colab": {
      "name": "20200818_aula05_est_condicionais.ipynb",
      "provenance": []
    }
  },
  "cells": [
    {
      "cell_type": "markdown",
      "metadata": {
        "id": "tlTWioR-4CCB",
        "colab_type": "text"
      },
      "source": [
        "# Aluno: Marcus Moresco Boeno\n",
        "\n",
        "#### Data: 18-08-2020 (Terça-Feira)\n",
        "#### Curso: Formação em Python - Entra21\n",
        "\n",
        "Este notebook contém os exercícios 1 a 19 da Aula 05 de python do Entra21 2020\n",
        "\n",
        "Os exercícios estão divididos em 2 seções:\n",
        "\n",
        "1. Laço condicional 1 (if ... else)\n",
        " - Exercícios 1 a 10\n",
        "2. Laço condicional 2 (if ... elif ... else)\n",
        " - Exercícios 11 a 19\n"
      ]
    },
    {
      "cell_type": "markdown",
      "metadata": {
        "id": "w8w1wRax4yTn",
        "colab_type": "text"
      },
      "source": [
        "# 1. Laço condicional 1\n",
        "---"
      ]
    },
    {
      "cell_type": "markdown",
      "metadata": {
        "id": "wLPGWU9seMRx",
        "colab_type": "text"
      },
      "source": [
        "## **Exercício 1**\n",
        "\n",
        "Faça um programa que peça 2 numeros inteiros e mostre o maior deles.\n",
        "\n"
      ]
    },
    {
      "cell_type": "code",
      "metadata": {
        "tags": [],
        "id": "Sf7kQU_4eMR0",
        "colab_type": "code",
        "colab": {
          "base_uri": "https://localhost:8080/",
          "height": 146
        },
        "outputId": "dec81546-fd70-4339-e72a-0cb2cf476e70"
      },
      "source": [
        "\n",
        "# Apresentação\n",
        "print(\"\\n > Definindo qual o maior entre dois números inteiros!\")\n",
        "\n",
        "# Captando input do usuário\n",
        "n1 = int(input(\"Digite um número inteiro: \"))\n",
        "n2 = int(input(\"Digite outro número inteiro: \"))\n",
        "\n",
        "# Apresentando resultados\n",
        "if n1 > n2:\n",
        "    print(f\"\\nO maior valor é {n1} [{n1} > {n2}]!\\n\")\n",
        "else:\n",
        "    print(f\"\\nO maior valor é {n2} [{n2} > {n1}]!\\n\")\n"
      ],
      "execution_count": 53,
      "outputs": [
        {
          "output_type": "stream",
          "text": [
            "\n",
            " > Definindo qual o maior entre dois números inteiros!\n",
            "Digite um número inteiro: 3\n",
            "Digite outro número inteiro: 1\n",
            "\n",
            "O maior valor é 3 [3 > 1]!\n",
            "\n"
          ],
          "name": "stdout"
        }
      ]
    },
    {
      "cell_type": "markdown",
      "metadata": {
        "id": "KoplzVBCeMSB",
        "colab_type": "text"
      },
      "source": [
        "## **Exercício 2**\n",
        "Faça um programa que peça um número.\n",
        "\n",
        "Mostre na tela se este número é negativo ou positivo. (lembrando que números positivos são maiores que zero!)"
      ]
    },
    {
      "cell_type": "code",
      "metadata": {
        "id": "eQIOsi9WeMSD",
        "colab_type": "code",
        "colab": {
          "base_uri": "https://localhost:8080/",
          "height": 127
        },
        "outputId": "7468bf22-9fc2-43a6-9c55-ab8c66707fcc"
      },
      "source": [
        "\n",
        "# Apresentação\n",
        "print(\"\\n > Definindo se o número é positivo ou negativo!\")\n",
        "\n",
        "# Captando input do usuário\n",
        "n1 = int(input(\"Digite um número inteiro: \"))\n",
        "\n",
        "# Apresentando resultados\n",
        "if n1 > 0:\n",
        "    print(f\"\\nO número é positivo [{n1} > 0]!\\n\")\n",
        "else:\n",
        "    print(f\"\\nO número é negativo [{n1} < 0]!\\n\")\n"
      ],
      "execution_count": 54,
      "outputs": [
        {
          "output_type": "stream",
          "text": [
            "\n",
            " > Definindo se o número é positivo ou negativo!\n",
            "Digite um número inteiro: -4\n",
            "\n",
            "O número é negativo [-4 < 0]!\n",
            "\n"
          ],
          "name": "stdout"
        }
      ]
    },
    {
      "cell_type": "markdown",
      "metadata": {
        "id": "dJPHbE5deMSO",
        "colab_type": "text"
      },
      "source": [
        "## **Exercício 3**\n",
        "Faça um programa que peça a idade do cliente.\n",
        "\n",
        "Se ele tiver 18 anos ou mais deve aparecer a mensagem \"Entrada permitida\"\n",
        "\n",
        "Caso contrário deve aparecer a mensagem \"Entrada Negada!\""
      ]
    },
    {
      "cell_type": "code",
      "metadata": {
        "id": "9Y8yWD5keMSP",
        "colab_type": "code",
        "colab": {
          "base_uri": "https://localhost:8080/",
          "height": 127
        },
        "outputId": "0cadba85-3739-4f90-cd7d-190b63c2bfa9"
      },
      "source": [
        "\n",
        "# Apresentação\n",
        "print(\"\\n > Entrada pertitida apenas para maiores de 18!\")\n",
        "\n",
        "# Captando input do usuário\n",
        "idade = int(input(\"Qual a sua idade?! \"))\n",
        "\n",
        "# Apresentando resultados\n",
        "if idade > 18:\n",
        "    print(\"\\nEntrada Permitida!\\n\")\n",
        "else:\n",
        "    print(\"\\nEntrada Negada!\\n\")\n"
      ],
      "execution_count": 55,
      "outputs": [
        {
          "output_type": "stream",
          "text": [
            "\n",
            " > Entrada pertitida apenas para maiores de 18!\n",
            "Qual a sua idade?! 26\n",
            "\n",
            "Entrada Permitida!\n",
            "\n"
          ],
          "name": "stdout"
        }
      ]
    },
    {
      "cell_type": "markdown",
      "metadata": {
        "id": "b2fvkKQ4eMSb",
        "colab_type": "text"
      },
      "source": [
        "## **Exercício 4**\n",
        "Escreva um programa que peça a nota de um aluno\n",
        "\n",
        "Se a nota for 7 ou mais deve aparecer a mensagem: \"Aprovado\"\n",
        "\n",
        "Caso contrário deve aparecer a mensagem: \"Reprovado\""
      ]
    },
    {
      "cell_type": "code",
      "metadata": {
        "id": "5Bzg9YNeeMSf",
        "colab_type": "code",
        "colab": {
          "base_uri": "https://localhost:8080/",
          "height": 127
        },
        "outputId": "22cf076d-cdb3-430d-b983-0cb7690f10d7"
      },
      "source": [
        "\n",
        "# Apresentação\n",
        "print(\"\\n > Sistema de Notas!\")\n",
        "\n",
        "# Captando input do usuário\n",
        "nota = float(input(\"Qual a nota do aluno?! \"))\n",
        "\n",
        "# Apresentando resultados\n",
        "if nota > 7:\n",
        "    print(\"\\nAprovado!\\n\")\n",
        "else:\n",
        "    print(\"\\nReprovado!\\n\")\n"
      ],
      "execution_count": 56,
      "outputs": [
        {
          "output_type": "stream",
          "text": [
            "\n",
            " > Sistema de Notas!\n",
            "Qual a nota do aluno?! 9.8\n",
            "\n",
            "Aprovado!\n",
            "\n"
          ],
          "name": "stdout"
        }
      ]
    },
    {
      "cell_type": "markdown",
      "metadata": {
        "id": "Cre9_gULeMSo",
        "colab_type": "text"
      },
      "source": [
        "## **Exercício 5**\n",
        "Faça um programa que peça uma senha ao usuário.\n",
        "\n",
        "Se a senha for igual a \"Abacaxi\" deve aparecer a mensagem \"Entrada liberada\"\n",
        "\n",
        "Caso contrário deve aparecer a mensagem \"Senha incorreta\""
      ]
    },
    {
      "cell_type": "code",
      "metadata": {
        "id": "whsYbcqqeMSp",
        "colab_type": "code",
        "colab": {
          "base_uri": "https://localhost:8080/",
          "height": 127
        },
        "outputId": "ae5e0bce-a399-4b84-ba2d-3825dad5889e"
      },
      "source": [
        "\n",
        "# Apresentação\n",
        "print(\"\\n > Faça o login!\")\n",
        "\n",
        "# Captando input do usuário\n",
        "senha = input(\"Digite a senha: \")\n",
        "\n",
        "# Apresentando resultados\n",
        "if senha == 'Abacaxi':\n",
        "    print(\"\\nEntrada Liberada!\\n\")\n",
        "else:\n",
        "    print(\"\\nSenha Incorreta!\\n\")\n"
      ],
      "execution_count": 58,
      "outputs": [
        {
          "output_type": "stream",
          "text": [
            "\n",
            " > Faça o login!\n",
            "Digite a senha: Melancia\n",
            "\n",
            "Senha Incorreta!\n",
            "\n"
          ],
          "name": "stdout"
        }
      ]
    },
    {
      "cell_type": "markdown",
      "metadata": {
        "id": "qyc3XsOBeMSy",
        "colab_type": "text"
      },
      "source": [
        "## **Exercício 6**\n",
        "Escreva um programa que peça 2 números e mostre eles em ordem crescente"
      ]
    },
    {
      "cell_type": "code",
      "metadata": {
        "id": "8gEi2Az2eMS0",
        "colab_type": "code",
        "colab": {
          "base_uri": "https://localhost:8080/",
          "height": 146
        },
        "outputId": "e0dd17f9-9463-4d15-e97a-c1241fa2e1c0"
      },
      "source": [
        "\n",
        "# Apresentação\n",
        "print(\"\\n > Números inteiros em ordem crescente!\")\n",
        "\n",
        "# Captando input do usuário\n",
        "n1 = int(input(\"Digite um número inteiro: \"))\n",
        "n2 = int(input(\"Digite outro número inteiro: \"))\n",
        "\n",
        "# Apresentando resultados\n",
        "if n1 < n2:\n",
        "    print(f\"\\nValores em ordem crescente: {n1} - {n2}\\n\")\n",
        "else:\n",
        "    print(f\"\\nValores em ordem crescente: {n2} - {n1}\\n\")\n"
      ],
      "execution_count": 59,
      "outputs": [
        {
          "output_type": "stream",
          "text": [
            "\n",
            " > Números inteiros em ordem crescente!\n",
            "Digite um número inteiro: 7\n",
            "Digite outro número inteiro: 4\n",
            "\n",
            "Valores em ordem crescente: 4 - 7\n",
            "\n"
          ],
          "name": "stdout"
        }
      ]
    },
    {
      "cell_type": "markdown",
      "metadata": {
        "id": "p2Dj7VQLeMS-",
        "colab_type": "text"
      },
      "source": [
        "## **Exercício 7**\n",
        "Faça um programa que peça 3 números inteiros e mostre o menor número."
      ]
    },
    {
      "cell_type": "code",
      "metadata": {
        "id": "__3oJIwqeMS-",
        "colab_type": "code",
        "colab": {
          "base_uri": "https://localhost:8080/",
          "height": 164
        },
        "outputId": "f3b33be6-be09-49db-fd8a-2a9a4497d049"
      },
      "source": [
        "\n",
        "# Apresentação\n",
        "print(\"\\n > Menor valor entre 3 inteiros!\")\n",
        "\n",
        "# Captando input do usuário\n",
        "n1 = int(input(\"Digite o primeiro valor: \"))\n",
        "n2 = int(input(\"Digite o segundo valor: \"))\n",
        "n3 = int(input(\"Digite o terceiro valor: \"))\n",
        "\n",
        "# Apresentando resultados\n",
        "if n1 < n2 and n1 < n3:\n",
        "    print(f\"\\nO menor valor é o {n1}!\\n\")\n",
        "else:\n",
        "    if n2 < n3:\n",
        "        print(f\"\\nO menor valor é o {n2}!\\n\")\n",
        "    else:\n",
        "        print(f\"\\nO menor valor é o {n3}!\\n\")\n"
      ],
      "execution_count": 60,
      "outputs": [
        {
          "output_type": "stream",
          "text": [
            "\n",
            " > Menor valor entre 3 inteiros!\n",
            "Digite o primeiro valor: 7\n",
            "Digite o segundo valor: 19\n",
            "Digite o terceiro valor: 4\n",
            "\n",
            "O menor valor é o 4!\n",
            "\n"
          ],
          "name": "stdout"
        }
      ]
    },
    {
      "cell_type": "markdown",
      "metadata": {
        "id": "8FCZ2BVceMTH",
        "colab_type": "text"
      },
      "source": [
        "## **Exercício 8**\n",
        "Faça um programa que peça 3 números inteiros e mostre o número maior."
      ]
    },
    {
      "cell_type": "code",
      "metadata": {
        "id": "2Cy3nm-DeMTI",
        "colab_type": "code",
        "colab": {
          "base_uri": "https://localhost:8080/",
          "height": 164
        },
        "outputId": "3bc18df8-ab34-457e-c033-be633d02737f"
      },
      "source": [
        "\n",
        "# Apresentação\n",
        "print(\"\\n > Maior valor entre 3 inteiros!\")\n",
        "\n",
        "# Captando input do usuário\n",
        "n1 = int(input(\"Digite o primeiro valor: \"))\n",
        "n2 = int(input(\"Digite o segundo valor: \"))\n",
        "n3 = int(input(\"Digite o terceiro valor: \"))\n",
        "\n",
        "# Apresentando resultados\n",
        "if n1 > n2 and n1 > n3:\n",
        "    print(f\"\\nO maior valor é o {n1}!\\n\")\n",
        "else:\n",
        "    if n2 > n3:\n",
        "        print(f\"\\nO maior valor é o {n2}!\\n\")\n",
        "    else:\n",
        "        print(f\"\\nO maior valor é o {n3}!\\n\")\n"
      ],
      "execution_count": 61,
      "outputs": [
        {
          "output_type": "stream",
          "text": [
            "\n",
            " > Maior valor entre 3 inteiros!\n",
            "Digite o primeiro valor: 5\n",
            "Digite o segundo valor: 7\n",
            "Digite o terceiro valor: 2\n",
            "\n",
            "O maior valor é o 7!\n",
            "\n"
          ],
          "name": "stdout"
        }
      ]
    },
    {
      "cell_type": "markdown",
      "metadata": {
        "id": "fAaGjupFeMTR",
        "colab_type": "text"
      },
      "source": [
        "## **Exercício 9**\n",
        "Faça um programa que peça 3 números inteiros e mostre o os tês em ordem crescente.\n",
        "\n"
      ]
    },
    {
      "cell_type": "code",
      "metadata": {
        "id": "yJcQWqKeeMTT",
        "colab_type": "code",
        "colab": {
          "base_uri": "https://localhost:8080/",
          "height": 164
        },
        "outputId": "11fb8d6a-9b24-4cb7-e8d7-b6553ce3c7f5"
      },
      "source": [
        "\n",
        "# Apresentação\n",
        "print(\"\\n > Números inteiros em ordem crescente!\")\n",
        "\n",
        "# Captando input do usuário\n",
        "n1 = int(input(\"Digite o primeiro valor: \"))\n",
        "n2 = int(input(\"Digite o segundo valor: \"))\n",
        "n3 = int(input(\"Digite o terceiro valor: \"))\n",
        "\n",
        "# Apresentando resultados\n",
        "if n1 < n2 and n1 < n3:\n",
        "    if n2 < n3:\n",
        "        print(f\"\\nValores em ordem crescente: {n1} - {n2} - {n3}\\n\")\n",
        "    else:\n",
        "        print(f\"\\nValores em ordem crescente: {n1} - {n3} - {n2}\\n\")\n",
        "else:\n",
        "    if  n2 < n3:\n",
        "        if n1 < n3:\n",
        "            print(f\"\\nValores em ordem crescente: {n2} - {n1} - {n3}\\n\")\n",
        "        else:\n",
        "            print(f\"\\nValores em ordem crescente: {n2} - {n3} - {n1}\\n\")\n",
        "    else:\n",
        "        if n1 < n2:\n",
        "            print(f\"\\nValores em ordem crescente: {n3} - {n1} - {n2}\\n\")\n",
        "        else:\n",
        "            print(f\"\\nValores em ordem crescente: {n3} - {n2} - {n1}\\n\")\n"
      ],
      "execution_count": 62,
      "outputs": [
        {
          "output_type": "stream",
          "text": [
            "\n",
            " > Números inteiros em ordem crescente!\n",
            "Digite o primeiro valor: 5\n",
            "Digite o segundo valor: 7\n",
            "Digite o terceiro valor: 2\n",
            "\n",
            "Valores em ordem crescente: 2 - 5 - 7\n",
            "\n"
          ],
          "name": "stdout"
        }
      ]
    },
    {
      "cell_type": "markdown",
      "metadata": {
        "id": "GcOw5b4yeMTZ",
        "colab_type": "text"
      },
      "source": [
        "## **Exercício 10**\n",
        "Faça um programa que peça 3 números inteiros e mostre o os tês em ordem decrescente.\n"
      ]
    },
    {
      "cell_type": "code",
      "metadata": {
        "id": "L3tDX_uzeMTa",
        "colab_type": "code",
        "colab": {
          "base_uri": "https://localhost:8080/",
          "height": 164
        },
        "outputId": "b61f4574-269f-411f-e0bc-5d26bd077d1b"
      },
      "source": [
        "\n",
        "# Apresentação\n",
        "print(\"\\n > Números inteiros em ordem decrescente!\")\n",
        "\n",
        "# Captando input do usuário\n",
        "n1 = int(input(\"Digite o primeiro valor: \"))\n",
        "n2 = int(input(\"Digite o segundo valor: \"))\n",
        "n3 = int(input(\"Digite o terceiro valor: \"))\n",
        "\n",
        "# Apresentando resultados\n",
        "if n1 > n2 and n1 > n3:\n",
        "    if n2 > n3:\n",
        "        print(f\"\\nValores em ordem decrescente: {n1} - {n2} - {n3}\\n\")\n",
        "    else:\n",
        "        print(f\"\\nValores em ordem decrescente: {n1} - {n3} - {n2}\\n\")\n",
        "else:\n",
        "    if n2 > n3:\n",
        "        if n1 > n3:\n",
        "            print(f\"\\nValores em ordem decrescente: {n2} - {n1} - {n3}\\n\")\n",
        "        else:\n",
        "            print(f\"\\nValores em ordem decrescente: {n2} - {n3} - {n1}\\n\")\n",
        "    else:\n",
        "        if n1 > n2:\n",
        "            print(f\"\\nValores em ordem decrescente: {n3} - {n1} - {n2}\\n\")\n",
        "        else:\n",
        "            print(f\"\\nValores em ordem decrescente: {n3} - {n2} - {n1}\\n\")\n"
      ],
      "execution_count": 63,
      "outputs": [
        {
          "output_type": "stream",
          "text": [
            "\n",
            " > Números inteiros em ordem decrescente!\n",
            "Digite o primeiro valor: 2\n",
            "Digite o segundo valor: 7\n",
            "Digite o terceiro valor: 5\n",
            "\n",
            "Valores em ordem decrescente: 7 - 5 - 2\n",
            "\n"
          ],
          "name": "stdout"
        }
      ]
    },
    {
      "cell_type": "markdown",
      "metadata": {
        "id": "pwUjIYFKeMTj",
        "colab_type": "text"
      },
      "source": [
        "# 2. Laço condicional 2\n",
        "---"
      ]
    },
    {
      "cell_type": "markdown",
      "metadata": {
        "id": "e7UMiGkveMT5",
        "colab_type": "text"
      },
      "source": [
        "## **Exercício 11**\n",
        "Faça um programa que peça o sexo do cliente. \n",
        "\n",
        "Se o cliente digitar 'F' deve aparecer a mensagem \"Como você está bonita hoje!\"\n",
        "\n",
        "Se o cliente digitar 'M' deve aparecer a mensagem \"Como você está forte? andou malhando?\"\n",
        "\n",
        "Se o cliente digitar qualquer outra coisa, deve aparecer a mensagem: \"opção invalida!\"\n"
      ]
    },
    {
      "cell_type": "code",
      "metadata": {
        "id": "TdNAEsGOeMT-",
        "colab_type": "code",
        "colab": {
          "base_uri": "https://localhost:8080/",
          "height": 127
        },
        "outputId": "f627013d-a857-4f02-d0db-0841207b9530"
      },
      "source": [
        "\n",
        "# Apresentação\n",
        "print(\"\\n > Mensagem para o cliente!\")\n",
        "\n",
        "# Captando input do usuário\n",
        "sexo = input(\"Digite o sexo do cliente [M/F]: \")\n",
        "\n",
        "# Apresentando resultados\n",
        "if sexo == 'F':\n",
        "    print(\"\\nComo você está bonita hoje!\\n\")\n",
        "elif sexo == 'M':\n",
        "    print(\"\\nComo você está forte! Andou malhando?\\n\")\n",
        "else:\n",
        "    print(\"\\nOpção inválida!\\n\")\n"
      ],
      "execution_count": 64,
      "outputs": [
        {
          "output_type": "stream",
          "text": [
            "\n",
            " > Mensagem para o cliente!\n",
            "Digite o sexo do cliente [M/F]: F\n",
            "\n",
            "Como você está bonita hoje!\n",
            "\n"
          ],
          "name": "stdout"
        }
      ]
    },
    {
      "cell_type": "markdown",
      "metadata": {
        "id": "QgYzqMMQeMUI",
        "colab_type": "text"
      },
      "source": [
        "## **Exercício 12**\n",
        "\n",
        "Crie um programa que peça 2 números.\n",
        "\n",
        "Depois mostre um menu interativo contendo 5 operações matemáticas do python\n",
        "<br>(adição, subtração, multiplicação, divisão e expoente)\n",
        "\n",
        "Peça para o usuário escolher uma destas opções e mostre o resultado da operação escolhida."
      ]
    },
    {
      "cell_type": "code",
      "metadata": {
        "id": "Ym_jRMRPeMUK",
        "colab_type": "code",
        "colab": {
          "base_uri": "https://localhost:8080/",
          "height": 348
        },
        "outputId": "050045e7-b1a1-4f44-9a9f-72e7ea1d992c"
      },
      "source": [
        "\n",
        "# Apresentação\n",
        "print(\"\\n > Operação matemáticas entre dois valores!\")\n",
        "\n",
        "# Captando input do usuário\n",
        "f1 = float(input(\"Digite o primeiro valor: \"))\n",
        "f2 = float(input(\"Digite o segundo valor: \"))\n",
        "\n",
        "# Menu interativo\n",
        "operacao = int(input(\"\"\"\n",
        "\n",
        "> Escolha um operação:\n",
        "\n",
        "[1] Soma\n",
        "[2] Subtração\n",
        "[3] Multiplicação\n",
        "[4] Divisão\n",
        "[5] Potenciação\n",
        "\n",
        "Opção: \"\"\"))\n",
        "\n",
        "# Apresentando resultados\n",
        "if operacao == 1:\n",
        "    print(f\"\\nA soma de {f1} e {f2} é igual a {f1+f2}\\n\")\n",
        "elif operacao == 2:\n",
        "    print(f\"\\nA subtração de {f1} e {f2} é igual a {f1-f2}\\n\")\n",
        "elif operacao == 3:\n",
        "    print(f\"\\nA multiplicação de {f1} por {f2} é igual a {f1*f2}\\n\")\n",
        "elif operacao == 4:\n",
        "    print(f\"\\nA divisão de {f1} por {f2} é igual a {f1/f2}\\n\")\n",
        "elif operacao == 5:\n",
        "    print(f\"\\nA potenciação de {f1} por {f2} é igual a {f1**f2}\\n\")\n",
        "else:\n",
        "    print(\"Opção inválida!\")\n"
      ],
      "execution_count": 65,
      "outputs": [
        {
          "output_type": "stream",
          "text": [
            "\n",
            " > Operação matemáticas entre dois valores!\n",
            "Digite o primeiro valor: 2\n",
            "Digite o segundo valor: 4\n",
            "\n",
            "\n",
            "> Escolha um operação:\n",
            "\n",
            "[1] Soma\n",
            "[2] Subtração\n",
            "[3] Multiplicação\n",
            "[4] Divisão\n",
            "[5] Potenciação\n",
            "\n",
            "Opção: 5\n",
            "\n",
            "A potenciação de 2.0 por 4.0 é igual a 16.0\n",
            "\n"
          ],
          "name": "stdout"
        }
      ]
    },
    {
      "cell_type": "markdown",
      "metadata": {
        "id": "9xBCPZHWeMUX",
        "colab_type": "text"
      },
      "source": [
        "## **Exercício 13**\n",
        "\n",
        "Crie um programa que peça o nome do cliente, idade, endereço, email e telefone.\n",
        "\n",
        "Depois crie um menu interativo com as seguintes opções: Dados, Endereço, Contato.\n",
        "\n",
        "Se o usuário selecionar \"Dados\" deve aparecer o nome do cliente e a idade\n",
        "\n",
        "Se o usuário selecionar \"Endereço\" deve aparecer o nome do cliente e o endereço\n",
        "\n",
        "Se o usuário selecionar \"Contato\" deve aparecer o nome do cliente, email e o telefone"
      ]
    },
    {
      "cell_type": "code",
      "metadata": {
        "id": "jvf4ySCMeMUb",
        "colab_type": "code",
        "colab": {
          "base_uri": "https://localhost:8080/",
          "height": 439
        },
        "outputId": "14d2f16c-80f0-4e27-83b9-e8d535f3b4f1"
      },
      "source": [
        "\n",
        "# Apresentação\n",
        "print(\"\\n > Dados cadastrais de um cliente!\")\n",
        "\n",
        "# Captando input do usuário\n",
        "print(\"\\n> Cadastro de novo cliente\")\n",
        "nome = input(\"Nome: \")\n",
        "idade = int(input(\"Idade: \"))\n",
        "endereco = input(\"Endereço: \")\n",
        "email = input(\"E-mail: \")\n",
        "telefone = input(\"Telefone: \")\n",
        "\n",
        "# Menu interativo\n",
        "opcao = int(input(\"\"\"\n",
        "\n",
        "> Informações cadastrais\n",
        "\n",
        "[1] Dados\n",
        "[2] Endereço\n",
        "[3] Contato\n",
        "[4] Sair do sistema\n",
        "\n",
        "Opção: \"\"\"))\n",
        "\n",
        "# Apresentando resultados\n",
        "if opcao == 1:\n",
        "    print(f\"\\nNome: {nome}\")\n",
        "    print(f\"Idade: {idade} anos\\n\")\n",
        "elif opcao == 2:\n",
        "    print(f\"\\nNome: {nome}\")\n",
        "    print(f\"Endereço: {endereco}\\n\")\n",
        "elif opcao == 3:\n",
        "    print(f\"\\nNome: {nome}\")\n",
        "    print(f\"E-mail: {email}\")\n",
        "    print(f\"Telefone: {telefone}\\n\")\n",
        "elif opcao == 4:\n",
        "    print(\"\\nAté logo! :)\\n\")\n",
        "else:\n",
        "    print(\"\\nOpção inválida!\")\n"
      ],
      "execution_count": 66,
      "outputs": [
        {
          "output_type": "stream",
          "text": [
            "\n",
            " > Dados cadastrais de um cliente!\n",
            "\n",
            "> Cadastro de novo cliente\n",
            "Nome: João Vasconcellos\n",
            "Idade: 19\n",
            "Endereço: Rua Muritiba, 120, Vila Floresta, Santo André-SP, Brasil\n",
            "E-mail: joaovas@hotmail.com\n",
            "Telefone: (21) 98044-4352\n",
            "\n",
            "\n",
            "> Informações cadastrais\n",
            "\n",
            "[1] Dados\n",
            "[2] Endereço\n",
            "[3] Contato\n",
            "[4] Sair do sistema\n",
            "\n",
            "Opção: 2\n",
            "\n",
            "Nome: João Vasconcellos\n",
            "Endereço: Rua Muritiba, 120, Vila Floresta, Santo André-SP, Brasil\n",
            "\n"
          ],
          "name": "stdout"
        }
      ]
    },
    {
      "cell_type": "markdown",
      "metadata": {
        "id": "9AxqZYnTeMUj",
        "colab_type": "text"
      },
      "source": [
        "## **Exercício 14**\n",
        "Crie um programa que peça ao usuário digitar um número de 1 a 7 e mostre o dia da semana correspondente sendo que segunda feira é o numero 1 e domingo é 7."
      ]
    },
    {
      "cell_type": "code",
      "metadata": {
        "id": "tqh4M9QteMUm",
        "colab_type": "code",
        "colab": {
          "base_uri": "https://localhost:8080/",
          "height": 146
        },
        "outputId": "b1ca7646-93ba-4db6-aedc-6bc8339b9712"
      },
      "source": [
        "\n",
        "# Apresentação\n",
        "print(\"\\n > Dia da semana!\")\n",
        "\n",
        "# Captando input do usuário\n",
        "dia = int(input(\"\\nDigite um número de 1 a 7: \"))\n",
        "\n",
        "# Apresentando resultados\n",
        "if dia == 1:\n",
        "    print(f\"\\nOlá, boa Segunda-Feira!\\n\")\n",
        "elif dia == 2:\n",
        "    print(f\"\\nOlá, boa Terça-Feira!\\n\")\n",
        "elif dia == 3:\n",
        "    print(f\"\\nOlá, boa Quarta-Feira!\\n\")\n",
        "elif dia == 4:\n",
        "    print(f\"\\nOlá, boa Quinta-Feira!\\n\")\n",
        "elif dia == 5:\n",
        "    print(f\"\\nOlá, boa Sexta-Feira!\\n\")\n",
        "elif dia == 6:\n",
        "    print(f\"\\nOlá, bom Sábado!\\n\")\n",
        "elif dia == 7:\n",
        "    print(f\"\\nOlá, bom Domingo!\\n\")\n",
        "else:\n",
        "    print(\"\\nOpção inválida!\\n\")\n"
      ],
      "execution_count": 67,
      "outputs": [
        {
          "output_type": "stream",
          "text": [
            "\n",
            " > Dia da semana!\n",
            "\n",
            "Digite um número de 1 a 7: 2\n",
            "\n",
            "Olá, boa Terça-Feira!\n",
            "\n"
          ],
          "name": "stdout"
        }
      ]
    },
    {
      "cell_type": "markdown",
      "metadata": {
        "id": "lFTsNcYneMUv",
        "colab_type": "text"
      },
      "source": [
        "## **Exercício 15**\n",
        "Crie um programa que peça ao usuário que digite um número de 1 a 12 e mostre o mês correspondente ao número.\n"
      ]
    },
    {
      "cell_type": "code",
      "metadata": {
        "id": "uOkMSmmseMUy",
        "colab_type": "code",
        "colab": {
          "base_uri": "https://localhost:8080/",
          "height": 146
        },
        "outputId": "a9d632fc-4743-4751-b4d5-c6d6a94f0676"
      },
      "source": [
        "\n",
        "# Apresentação\n",
        "print(\"\\n > Mês do ano!\")\n",
        "\n",
        "# Captando input do usuário\n",
        "mes = int(input(\"\\nEm que mês estamos?! [1 a 12]: \"))\n",
        "\n",
        "# Apresentando resultados\n",
        "if mes == 1:\n",
        "    print(f\"\\nCerto, estamos em Janeiro!\\n\")\n",
        "elif mes == 2:\n",
        "    print(f\"\\nCerto, estamos em Fevereiro!\\n\")\n",
        "elif mes == 3:\n",
        "    print(f\"\\nCerto, estamos em Março!\\n\")\n",
        "elif mes == 4:\n",
        "    print(f\"\\nCerto, estamos em Abril!\\n\")\n",
        "elif mes == 5:\n",
        "    print(f\"\\nCerto, estamos em Maio!\\n\")\n",
        "elif mes == 6:\n",
        "    print(f\"\\nCerto, estamos em Junho!\\n\")\n",
        "elif mes == 7:\n",
        "    print(f\"\\nCerto, estamos em Julho!\\n\")\n",
        "elif mes == 8:\n",
        "    print(f\"\\nCerto, estamos em Agosto!\\n\")\n",
        "elif mes == 9:\n",
        "    print(f\"\\nCerto, estamos em Setembro!\\n\")\n",
        "elif mes == 10:\n",
        "    print(f\"\\nCerto, estamos em Outubro!\\n\")\n",
        "elif mes == 11:\n",
        "    print(f\"\\nCerto, estamos em Novembro!\\n\")\n",
        "elif mes == 12:\n",
        "    print(f\"\\nCerto, estamos em Dezembro!\\n\")\n",
        "else:\n",
        "    print(f\"\\n[Opção inválida] - Não existe mês {mes}!\\n\")\n"
      ],
      "execution_count": 68,
      "outputs": [
        {
          "output_type": "stream",
          "text": [
            "\n",
            " > Mês do ano!\n",
            "\n",
            "Em que mês estamos?! [1 a 12]: 8\n",
            "\n",
            "Certo, estamos em Agosto!\n",
            "\n"
          ],
          "name": "stdout"
        }
      ]
    },
    {
      "cell_type": "markdown",
      "metadata": {
        "id": "Sgs4iDDKeMU9",
        "colab_type": "text"
      },
      "source": [
        "## **Exercício 16**\n",
        "\n",
        "Crie um programa para uma promoção de um posto de combustivel.\n",
        "\n",
        "O programa deve pedir ao usuário quantos litros ele quer abastecer e qual combustivel: álcool, diessel ou gasolina\n",
        "\n",
        "A promoção é a seguinte:\n",
        " - Para gasolina: Até 20 litros 0% de desconto e acima de 20 litros 10% de desconto\n",
        " - Para diessel: Até 10 litro 1.5% de desconto e acima de 10 litros 5% de desconto\n",
        " - para álcool: Até 10 litros 5% de desconto e acima de 10 litros 10% de desconto.\n",
        " \n",
        "Mostre o combustivel que ele selecionou, o total abastecido e a porcentagem de desconto a ser aplicada.\n",
        "\n",
        "Não precisa calcular o valor do combustivel!\n"
      ]
    },
    {
      "cell_type": "code",
      "metadata": {
        "id": "tnUGAUYceMVB",
        "colab_type": "code",
        "colab": {
          "base_uri": "https://localhost:8080/",
          "height": 348
        },
        "outputId": "668197c5-ecf6-4e32-9343-d1008b09cdf5"
      },
      "source": [
        "\n",
        "# Apresentação\n",
        "print(\"\\n > Promoção no posto de combustível!\")\n",
        "\n",
        "# Captando input do usuário\n",
        "ltrs = float(input(\"\\nQuantos litros deseja abastecer?! \"))\n",
        "comb = int(input(\"\"\"\n",
        "Qual combustível você deseja?!\n",
        "\n",
        "[1] Álcool\n",
        "[2] Diesel\n",
        "[3] Gasolina\n",
        "[4] Sair do posto\n",
        "\n",
        "Opção: \"\"\"))\n",
        "\n",
        "# Apresentando resultados\n",
        "if comb == 1:\n",
        "    print(f\"\\nCombustível Selecionado: Álcool\")\n",
        "    print(f\"Total abastecido: {ltrs}\")\n",
        "    if ltrs <= 10:\n",
        "        print(\"Promoção aplicada: 5% de desconto (até 10 litros)!\\n\")\n",
        "    else:\n",
        "        print(\"Promoção aplicada: 10% de desconto (acima de 10 litros)!\\n\")\n",
        "\n",
        "elif comb == 2:\n",
        "    print(f\"\\nCombustível Selecionado: Diesel\")\n",
        "    print(f\"Total abastecido: {ltrs}\")\n",
        "    if ltrs <= 10:\n",
        "        print(\"Promoção aplicada: 1.5% de desconto (até 10 litros)!\\n\")\n",
        "    else:\n",
        "        print(\"Promoção aplicada: 5% de desconto (acima de 10 litros)!\\n\")\n",
        "\n",
        "elif comb == 3:\n",
        "    print(f\"\\nCombustível Selecionado: Gasolina\")\n",
        "    print(f\"Total abastecido: {ltrs}\")\n",
        "    if ltrs <= 20:\n",
        "        print(\"Sem Promoção: 0% de desconto (até 20 litros)!\\n\")\n",
        "    else:\n",
        "        print(\"Promoção aplicada: 10% de desconto (acima de 20 litros)!\\n\")\n",
        "\n",
        "elif comb == 4:\n",
        "    print(f\"\\nVolte sempre, até logo!\\n\")\n",
        "\n",
        "else:\n",
        "    print(\"\\nOpção inválida!\\n\")\n"
      ],
      "execution_count": 69,
      "outputs": [
        {
          "output_type": "stream",
          "text": [
            "\n",
            " > Promoção no posto de combustível!\n",
            "\n",
            "Quantos litros deseja abastecer?! 15\n",
            "\n",
            "Qual combustível você deseja?!\n",
            "\n",
            "[1] Álcool\n",
            "[2] Diesel\n",
            "[3] Gasolina\n",
            "[4] Sair do posto\n",
            "\n",
            "Opção: 1\n",
            "\n",
            "Combustível Selecionado: Álcool\n",
            "Total abastecido: 15.0\n",
            "Promoção aplicada: 10% de desconto (acima de 10 litros)!\n",
            "\n"
          ],
          "name": "stdout"
        }
      ]
    },
    {
      "cell_type": "markdown",
      "metadata": {
        "id": "sjYgOJPDeMVO",
        "colab_type": "text"
      },
      "source": [
        "## **Exercício 17**\n",
        "crie um programa que peça 4 notas de um aluno e calcule a média \"(nota1+nota2+nota3+nota4)/4\" e retorne:\n",
        "\n",
        "Pra média igual a 10 apareça a mensagem \"Aprovado com louvor\"\n",
        "Pra média maior igual a 7 apareça a mensagem \"Aprovado\"\n",
        "Pra média menor que 7 apareça a mensagem \"Reprovado\"\n"
      ]
    },
    {
      "cell_type": "code",
      "metadata": {
        "id": "Yr6RryJleMVR",
        "colab_type": "code",
        "colab": {
          "base_uri": "https://localhost:8080/",
          "height": 201
        },
        "outputId": "e2bcef3b-e2bc-4398-b5ef-849c65133365"
      },
      "source": [
        "\n",
        "# Apresentação\n",
        "print(\"\\n > Média de 4 notas!\")\n",
        "\n",
        "# Captando input do usuário\n",
        "nota1 = float(input(\"\\nPrimeira nota [1/4]: \"))\n",
        "nota2 = float(input(\"Segunda nota [2/4]: \"))\n",
        "nota3 = float(input(\"Terceira nota [3/4]: \"))\n",
        "nota4 = float(input(\"Quarta nota [4/4]: \"))\n",
        "\n",
        "# Apresentado resultados\n",
        "media = (nota1 + nota2 + nota3 + nota4)/4\n",
        "\n",
        "if media == 10:\n",
        "    print(f\"\\nAprovado com louvor [Média = {media}]\\n\")\n",
        "elif media >= 7:\n",
        "    print(f\"\\nAprovado [Média = {media}]\\n\")\n",
        "else:\n",
        "    print(f\"\\nReprovado [Média = {media}]\\n\")\n"
      ],
      "execution_count": 70,
      "outputs": [
        {
          "output_type": "stream",
          "text": [
            "\n",
            " > Média de 4 notas!\n",
            "\n",
            "Primeira nota [1/4]: 10\n",
            "Segunda nota [2/4]: 7.5\n",
            "Terceira nota [3/4]: 6\n",
            "Quarta nota [4/4]: 8.7\n",
            "\n",
            "Aprovado [Média = 8.05]\n",
            "\n"
          ],
          "name": "stdout"
        }
      ]
    },
    {
      "cell_type": "markdown",
      "metadata": {
        "id": "uEpmMX_0eMVc",
        "colab_type": "text"
      },
      "source": [
        "## **Exercício 18**\n",
        "Peça para o usuário digitar os valores de a, b e c\n",
        "\n",
        "Calcule o delta \"delta = (b**2)-(4*a*c)\"\n",
        "\n",
        "Se o delta der negativo, então deve aparecer a seguinte mensagem: \"Delta negativo! Equação não pode ser resolvida!\"\n",
        "\n",
        "Se o delta der igual a zero, então deve aparecer a seguinte mensagem: \"Delta igual a zero!\"\n",
        "\n",
        "Se o delta der positivo, então deve aparecer a seguinte mensagem: \"A equação pode ser resolvida!\""
      ]
    },
    {
      "cell_type": "code",
      "metadata": {
        "id": "_BbjzT1EeMVe",
        "colab_type": "code",
        "colab": {
          "base_uri": "https://localhost:8080/",
          "height": 182
        },
        "outputId": "d59de21e-f521-487b-ab28-f61406509c92"
      },
      "source": [
        "\n",
        "# Apresentação\n",
        "print(\"\\n > Calculando o delta da fórmula de Bhaskara!\")\n",
        "\n",
        "# Captando input do usuário\n",
        "a = float(input(\"\\nValor de 'a': \"))\n",
        "b = float(input(\"Valor de 'b': \"))\n",
        "c = float(input(\"Valor de 'c': \"))\n",
        "\n",
        "# Apresentado resultados\n",
        "delta = b**2 - 4*a*c\n",
        "\n",
        "if delta < 0:\n",
        "    print(f\"\\nDelta negativo! Equação não pode ser resolvida [Delta = {delta}]\\n\")\n",
        "elif delta == 0:\n",
        "    print(f\"\\nDelta igual a zero!\\n\")\n",
        "else:\n",
        "    print(f\"\\nDelta positivo! A equação pode ser resolvida [Delta = {delta}]\\n\")\n"
      ],
      "execution_count": 71,
      "outputs": [
        {
          "output_type": "stream",
          "text": [
            "\n",
            " > Calculando o delta da fórmula de Bhaskara!\n",
            "\n",
            "Valor de 'a': 1\n",
            "Valor de 'b': 3\n",
            "Valor de 'c': 4.5\n",
            "\n",
            "Delta negativo! Equação não pode ser resolvida [Delta = -9.0]\n",
            "\n"
          ],
          "name": "stdout"
        }
      ]
    },
    {
      "cell_type": "markdown",
      "metadata": {
        "id": "1W0TElyJeMVk",
        "colab_type": "text"
      },
      "source": [
        "## **Exercício 19**\n",
        "Faça um programa para calcular a fórmula do bhaskara para equação de segundo grau: ax²+bx+c\n",
        "\n",
        "Peça para o usuário digitar os valores de a, b e c\n",
        "\n",
        "Calcule o delta \"delta = (b\\*\\*2)-(4\\*a\\*c)\"\n",
        "\n",
        "Se o delta der negativo, então deve aparecer a seguinte mensagem: \"Delta negativo! Equação não pode ser resolvida!\"\n",
        "\n",
        "Se o delta for igual a zero, use esta fórmula \"x=-b/(2\\*a)\" e mostre o valor de x\n",
        "\n",
        "Se delta for maior que zero, então use estas 2 fórmulas \"x =(-b+(delta\\*\\*(1/2)))/(2\\*a)\" e \"x2=(-b-(delta\\*\\*(1/2)))/(2\\*a)\"\n",
        "e mostre o os valores de x1 e x2  \n",
        "    \n",
        "    \n",
        "________________\n",
        "Nota: <br>\n",
        "Para testar se seu programa está certo use estes valores para a, b e c<br>\n",
        "delta negativo a=1, b=1, c=1<br>\n",
        "delta zero a=1, b=2, c=1<br>\n",
        "delta positivo a=1, b=4, c=1<br>"
      ]
    },
    {
      "cell_type": "code",
      "metadata": {
        "id": "bdTayhLMeMVm",
        "colab_type": "code",
        "colab": {
          "base_uri": "https://localhost:8080/",
          "height": 274
        },
        "outputId": "ccd4c0f6-709a-45f3-cd1d-ec836556e23b"
      },
      "source": [
        "\n",
        "# Apresentação\n",
        "print(\"\\n > Calculando a fórmula de Bhaskara!\")\n",
        "\n",
        "# Captando input do usuário\n",
        "print(\"\\n> Digite os coefiecientes a, b e c da equação de segundo grau (ax²_bx+c)\")\n",
        "a = float(input(\"\\nValor de 'a': \"))\n",
        "b = float(input(\"Valor de 'b': \"))\n",
        "c = float(input(\"Valor de 'c': \"))\n",
        "\n",
        "# Apresentado resultados\n",
        "delta = b**2 - 4*a*c\n",
        "\n",
        "if delta < 0:\n",
        "    print(f\"\\nDelta negativo! Equação não pode ser resolvida [Delta = {delta}]\\n\")\n",
        "elif delta == 0:\n",
        "    print(f\"\\nDelta igual a zero! Existe apenas um valor de x.\")\n",
        "    print(f\"x = {-b/(2*a)}\\n\")\n",
        "else:\n",
        "    print(f\"\\nDelta positivo [{delta}]! Existem dois valores de x.\\n\")\n",
        "    print(f\"x1 = {(-b+(delta**(1/2)))/(2*a)}\")\n",
        "    print(f\"x2 = {(-b-(delta**(1/2)))/(2*a)}\\n\")\n"
      ],
      "execution_count": 73,
      "outputs": [
        {
          "output_type": "stream",
          "text": [
            "\n",
            " > Calculando a fórmula de Bhaskara!\n",
            "\n",
            "> Digite os coefiecientes a, b e c da equação de segundo grau (ax²_bx+c)\n",
            "\n",
            "Valor de 'a': 1\n",
            "Valor de 'b': 4\n",
            "Valor de 'c': 1\n",
            "\n",
            "Delta positivo [12.0]! Existem dois valores de x.\n",
            "\n",
            "x1 = -0.2679491924311228\n",
            "x2 = -3.732050807568877\n",
            "\n"
          ],
          "name": "stdout"
        }
      ]
    }
  ]
}